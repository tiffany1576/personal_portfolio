{
 "cells": [
  {
   "cell_type": "code",
   "execution_count": 1,
   "metadata": {},
   "outputs": [],
   "source": [
    "import pandas as pd\n",
    "import numpy as np\n",
    "import datetime as dt\n",
    "import seaborn as sns\n",
    "import matplotlib.pyplot as plt\n",
    "import requests\n",
    "from sodapy import Socrata"
   ]
  },
  {
   "cell_type": "markdown",
   "metadata": {},
   "source": [
    "## EVALUATING IMPACT OF DOJ MEASURES IN OPIOID INTERDICTION\n",
    "In order to evaluate the efficacy of different interventions in the fight against the opioid epidemic, I am reviewing prescription and enrollment information for Kentucky Medicaid. The data is available publicly through data.medicaid.gov and the Socrata client. SodaPy is the Python library that works with Socrata. \n",
    "\n",
    "I obtained 5 years of prescription data (2015-2019) and the corresponding enrollment. I also obtained a dataset of only the medications prescribed for substance use disorder treatment, including Naloxone (Narcan). \n",
    "\n",
    "I will review the data from each year 2015-2018 to create forecasts, then compare the forecasts to the actual prescription values in 2019. \n",
    "\n",
    "This is the basis of my evaluation of the impact of US DOJ interventions in KY starting in October, 2018. "
   ]
  },
  {
   "cell_type": "markdown",
   "metadata": {},
   "source": [
    "### OBTAINING PRESCRIPTION DATA FROM MEDICAID"
   ]
  },
  {
   "cell_type": "code",
   "execution_count": 2,
   "metadata": {},
   "outputs": [
    {
     "name": "stderr",
     "output_type": "stream",
     "text": [
      "WARNING:root:Requests made without an app_token will be subject to strict throttling limits.\n"
     ]
    }
   ],
   "source": [
    "client = Socrata(\"data.medicaid.gov\", None)\n",
    "#code from the medicaid.gov website for using Socrata with Python\n",
    "\n",
    "# Example authenticated client (needed for non-public datasets):\n",
    "# client = Socrata(data.medicaid.gov,\n",
    "#                  MyAppToken,\n",
    "#                  userame=\"user@example.com\",\n",
    "#                  password=\"AFakePassword\")\n",
    "\n",
    "# Returned as JSON from API / converted to Python list of\n",
    "# dictionaries by sodapy.\n",
    "\n",
    "rx_2015 = client.get(\"hse5-m4bk\", state_code = 'KY', limit = 250000)\n",
    "rx_2016 = client.get(\"dpqa-tc6u\", state_code = 'KY', limit = 250000)\n",
    "rx_2017 = client.get(\"qams-sami\", state_code = 'KY', limit = 250000)\n",
    "rx_2018 = client.get(\"ddz4-5k5v\",state_code = 'KY', limit = 250000)\n",
    "rx_2019 = client.get(\"8fjh-49cj\", state_code = 'KY', limit = 250000)\n",
    "rx_2020 = client.get(\"yuuq-gv5v\", state_code = 'KY', limit = 250000)\n",
    "\n",
    "\n",
    "rx_mat = client.get(\"3mnv-bath\", state_code = 'KY', limit = 10000)\n",
    "mcd_enrollment =client.get(\"nkdi-f9a2\", limit = 100)\n",
    "\n",
    "\n",
    "# Convert to pandas DataFrame\n",
    "df_2020 = pd.DataFrame.from_records(rx_2020)\n",
    "df_2019 = pd.DataFrame.from_records(rx_2019)\n",
    "df_2018 = pd.DataFrame.from_records(rx_2018)\n",
    "df_2017 = pd.DataFrame.from_records(rx_2017)\n",
    "df_2016 = pd.DataFrame.from_records(rx_2016)\n",
    "df_2015 = pd.DataFrame.from_records(rx_2015)\n",
    "df_mat = pd.DataFrame.from_records(rx_mat)\n",
    "df_enrollment =pd.DataFrame.from_records(mcd_enrollment)"
   ]
  },
  {
   "cell_type": "markdown",
   "metadata": {},
   "source": [
    "Once all the data is obtained, check the shape of each year's data set, consolidate into 1 data frame for years 2015-2018, remove all rows with nulls in the 'number of prescriptions' field. "
   ]
  },
  {
   "cell_type": "code",
   "execution_count": 3,
   "metadata": {},
   "outputs": [],
   "source": [
    "#df_2015.shape, df_2016.shape, df_2017.shape, df_2018.shape, df_2019.shape, df_mat.shape, df_enrollment.shape\n",
    "#shapes of all data\n"
   ]
  },
  {
   "cell_type": "code",
   "execution_count": 4,
   "metadata": {},
   "outputs": [],
   "source": [
    "#df_2015.columns, df_2016.columns, df_2017.columns, df_2018.columns, df_2019.columns -check columns in each frame"
   ]
  },
  {
   "cell_type": "markdown",
   "metadata": {},
   "source": [
    "Define the fields that are consistent across all prescription data and identify features to use in model"
   ]
  },
  {
   "cell_type": "code",
   "execution_count": 5,
   "metadata": {},
   "outputs": [],
   "source": [
    "keepers = ['quarter', 'state_code', \n",
    "        'product_code', 'package_size', '_quarter_begin', 'number_of_prescriptions',\n",
    "        'product_fda_list_name', 'labeler_code', 'total_amount_reimbursed',\n",
    "        'units_reimbursed', 'period_covered', 'ndc']"
   ]
  },
  {
   "cell_type": "markdown",
   "metadata": {},
   "source": [
    "Use concatenate to create one data frame for years 2015-2018, and drop any rows with NaN in number_of_prescriptions"
   ]
  },
  {
   "cell_type": "code",
   "execution_count": 6,
   "metadata": {},
   "outputs": [],
   "source": [
    "rx_df = pd.concat([df_2015[keepers],df_2016[keepers], df_2017[keepers], df_2018[keepers]] )"
   ]
  },
  {
   "cell_type": "code",
   "execution_count": 7,
   "metadata": {},
   "outputs": [],
   "source": [
    "rx_df.dropna(subset = ['number_of_prescriptions'], inplace =True)"
   ]
  },
  {
   "cell_type": "code",
   "execution_count": 8,
   "metadata": {
    "scrolled": true
   },
   "outputs": [
    {
     "data": {
      "text/plain": [
       "(203597, 12)"
      ]
     },
     "execution_count": 8,
     "metadata": {},
     "output_type": "execute_result"
    }
   ],
   "source": [
    "rx_df.shape"
   ]
  },
  {
   "cell_type": "markdown",
   "metadata": {},
   "source": [
    "### OBTAINING PRESCRIPTION DRUG INFORMATION FROM FDA"
   ]
  },
  {
   "cell_type": "markdown",
   "metadata": {},
   "source": [
    "To limit the prescription data to only opioid drugs, I'm using the OpenFDA API to query the FDA NDC drug database. This database is updated daily with the latest information from the FDA about all products with an NDC (national drug code) identifier. The API documentation indicates the search is limited to a max of 1000 rows, and according to the metadata, there are 1751 opioid drugs in the database. 2 pulls with a maximum limit of 1000 rows each should provide all the opioids in the database.\n",
    "Documentation for the API is here: https://open.fda.gov/apis/"
   ]
  },
  {
   "cell_type": "code",
   "execution_count": 9,
   "metadata": {},
   "outputs": [],
   "source": [
    "data1 = requests.get('https://api.fda.gov/drug/ndc.json?search=pharm_class:\"Opioid\"&limit=1000').json()\n",
    "data2 = requests.get('https://api.fda.gov/drug/ndc.json?search=pharm_class:\"Opioid\"&limit=1000&skip=1000').json()\n"
   ]
  },
  {
   "cell_type": "code",
   "execution_count": 10,
   "metadata": {},
   "outputs": [],
   "source": [
    "#code assistance from James\n",
    "#concatenate the 2 results JSON streams and put in a dataframe\n",
    "\n",
    "inner = data1['results'] + data2['results']\n",
    "fda_df = pd.DataFrame.from_records(inner)\n",
    "fda_df['route'] = fda_df['route'].str[0]\n",
    "\n",
    "#define the fields I wish to keep in my data frame\n",
    "fda_df = fda_df[['product_ndc','generic_name','dea_schedule','brand_name','active_ingredients','route','pharm_class']]\n"
   ]
  },
  {
   "cell_type": "markdown",
   "metadata": {},
   "source": [
    "Splitting the list into 5 smaller dataframes based on DEA drug class. Most, but not all, partial opioid agonists used in medication-assisted substance abuse treatment are classified as Schedule III prescription medications. \n",
    "This may be useful if I decide to use the DEA class as a feature or summarize total rx by schedule. Also a quick way to see what meds are in which class using value-count"
   ]
  },
  {
   "cell_type": "code",
   "execution_count": 11,
   "metadata": {
    "scrolled": true
   },
   "outputs": [],
   "source": [
    "CII = fda_df.loc[fda_df['dea_schedule']== 'CII']\n",
    "CIII = fda_df.loc[fda_df['dea_schedule'] == 'CIII']\n",
    "CIV = fda_df.loc[fda_df['dea_schedule'] == 'CIV']\n",
    "CV = fda_df.loc[fda_df['dea_schedule'] == 'CV']\n"
   ]
  },
  {
   "cell_type": "markdown",
   "metadata": {},
   "source": [
    "### DATA CLEANING AND TRANSFORMATIONS"
   ]
  },
  {
   "cell_type": "markdown",
   "metadata": {},
   "source": [
    "Only methadone, butorphanol tartrate, and buprenorphine-containing medications are acceptable forms of medicated-assisted treatment for substance use disorder covered by Medicaid in KY (there are other non-opioid medications like Wellbutrin approved for substance abuse treatment, but I've limited my dataframe to only opioid medications). Create a dummy column for MAT - '1' if lowercase generic name contains methadone, butorphanol, or buprenorphine; '0' if not.\n",
    "\n",
    "Likewise, create a dummy column for Opioid - '1' if lowercase generic name contains one of the base opioids. I started with trying to match NDC codes, but discovered that the current directory does not include recently retired NDC's. Out of 203k transaction records, 6k registered as opioids when I matched on NDC's. With the dummy column based on name, I also capture opioid drugs historically prescribed under a now-expired NDC. \n",
    "\n",
    "For simplicity, I created a list of the root generic names and brand names, limited to the first 10 characters, so I can match wth the product name in the Medicaid RX Claims dataframe"
   ]
  },
  {
   "cell_type": "markdown",
   "metadata": {},
   "source": [
    "Using this example from StackOverflow as my basis - https://stackoverflow.com/questions/26886653/pandas-create-new-column-based-on-values-from-other-columns-apply-a-function-o?rq=1 and assistance from Alex getting my syntax correct."
   ]
  },
  {
   "cell_type": "code",
   "execution_count": 12,
   "metadata": {},
   "outputs": [],
   "source": [
    "#Create list of opioid drugs using the FDA info. Truncate names to 10 characters. Use Brand Name, to cover all \n",
    "#label names that may appear on the Medicaid RX. Removed references to acetaminophen, promethazine, and carisoprodol \n",
    "#which are non-opioids commonly found in opioid-containing pain medications and cough syrup. \n",
    "\n",
    "notopioid = ['promethazi','acetaminop', 'tylenol', 'carisoprod']\n",
    "drug = fda_df['brand_name'].str.split(' ').str[0].str[:10].str.lower()\n",
    "drugs = list(drug.drop_duplicates())\n",
    "drugs = [x for x in drugs if x not in notopioid] "
   ]
  },
  {
   "cell_type": "code",
   "execution_count": 13,
   "metadata": {},
   "outputs": [],
   "source": [
    "def mat(value):\n",
    "    \"\"\"Function that accepts a value, compares the first 10 characters of the string to the names of\n",
    "    drugs recognized for medication-assisted treatment of substance use disorder. Returns 1 if match,\n",
    "    0 if no match\"\"\"\n",
    "    if value[:10].lower() in ['buprenorph','methadone','butorphano']:\n",
    "        return 1\n",
    "    else:\n",
    "        return 0"
   ]
  },
  {
   "cell_type": "code",
   "execution_count": 14,
   "metadata": {},
   "outputs": [],
   "source": [
    "def opioid(value):\n",
    "    \"\"\"Function that accepts a value, compares the first 10 characters of the string to the names of\n",
    "    drugs classified as opioids by the FDA. Returns 1 if match,0 if no match\"\"\"\n",
    "    if value.lower() in drugs:\n",
    "        return 1\n",
    "    else:\n",
    "        return 0"
   ]
  },
  {
   "cell_type": "code",
   "execution_count": 15,
   "metadata": {},
   "outputs": [],
   "source": [
    "rx_df['mat'] = rx_df['product_fda_list_name'].apply(lambda x: mat(x))\n",
    "fda_df['mat'] = fda_df['generic_name'].apply(lambda x:mat(x))"
   ]
  },
  {
   "cell_type": "code",
   "execution_count": 16,
   "metadata": {},
   "outputs": [],
   "source": [
    "rx_df['opioid']=rx_df['product_fda_list_name'].apply(lambda x: opioid(x))"
   ]
  },
  {
   "cell_type": "code",
   "execution_count": 17,
   "metadata": {},
   "outputs": [
    {
     "data": {
      "text/plain": [
       "0    198610\n",
       "1      4987\n",
       "Name: opioid, dtype: int64"
      ]
     },
     "execution_count": 17,
     "metadata": {},
     "output_type": "execute_result"
    }
   ],
   "source": [
    "rx_df['opioid'].value_counts()"
   ]
  },
  {
   "cell_type": "code",
   "execution_count": 18,
   "metadata": {},
   "outputs": [
    {
     "data": {
      "text/plain": [
       "0    203131\n",
       "1       466\n",
       "Name: mat, dtype: int64"
      ]
     },
     "execution_count": 18,
     "metadata": {},
     "output_type": "execute_result"
    }
   ],
   "source": [
    "rx_df['mat'].value_counts()"
   ]
  },
  {
   "cell_type": "markdown",
   "metadata": {},
   "source": [
    "Medicaid pads their NDC numbers. Example- NDC 0406-0540 is 004060540; 76420-127 is 764200127. In other words, the digits to the left of the hash are converted to a 5-digit 'labeler code' and the digits to the right of the hash are converted to a 4-digit 'product code'. "
   ]
  },
  {
   "cell_type": "code",
   "execution_count": 19,
   "metadata": {},
   "outputs": [],
   "source": [
    "##Use string methods to transform the NDC codes to have the same format. NDC is the key for merging the RX data \n",
    "## with the drug data from the FDA\n",
    "\n",
    "fda_df['label_code']=fda_df['product_ndc'].str.split('-').str[0].str.zfill(5).astype(\"string\")\n",
    "\n",
    "fda_df['prod_code']=fda_df['product_ndc'].str.split('-').str[1].str.zfill(4).astype(\"string\")\n",
    "\n",
    "fda_df['ndc'] = fda_df['label_code']+fda_df['prod_code']\n",
    "\n",
    "fda_df.drop_duplicates(subset = ['product_ndc'], inplace = True) #drop duplicate NDC listings"
   ]
  },
  {
   "cell_type": "code",
   "execution_count": 20,
   "metadata": {},
   "outputs": [],
   "source": [
    "#Use only the first 9 characters of the ndc in the Medicaid data\n",
    "rx_df['ndc'] = rx_df['ndc'].str[:9]"
   ]
  },
  {
   "cell_type": "markdown",
   "metadata": {},
   "source": [
    "Create a smaller data frame of just 'ndc', 'mat', and 'generic_name' from fda_df. Use merge to join rx_df to opioid_df using 'ndc'. The 'MAT' field in the fda_df serves as an indicator if the NDC in rx_df is an opioid and if so, if it is used for medication-assisted therapy"
   ]
  },
  {
   "cell_type": "code",
   "execution_count": 21,
   "metadata": {},
   "outputs": [],
   "source": [
    "opioid_df = fda_df[['ndc','mat','dea_schedule','generic_name']]\n"
   ]
  },
  {
   "cell_type": "code",
   "execution_count": 22,
   "metadata": {},
   "outputs": [
    {
     "name": "stdout",
     "output_type": "stream",
     "text": [
      "0    198610\n",
      "1      4987\n",
      "Name: opioid, dtype: int64\n",
      "0    203131\n",
      "1       466\n",
      "Name: mat_x, dtype: int64\n"
     ]
    }
   ],
   "source": [
    "merged_df = rx_df.merge(opioid_df, how = \"left\", on = 'ndc')\n",
    "print(merged_df['opioid'].value_counts())\n",
    "print(merged_df['mat_x'].value_counts())     "
   ]
  },
  {
   "cell_type": "markdown",
   "metadata": {},
   "source": [
    "To capture the drugs in the NDC list identified as opioids that were missed by comparing label names, look for the prescriptions with a '0' for 'opioid', which were derived from the Medicaid RX drug records, then the records with '0' or '1' for 'mat_y', which were derived from the FDA records. The resulting drugs will also need to be flagged as opioids. Apply similar methodology to the 'mat_x' column to incorporate the MAT drugs identified in the FDA list that may not have matched on names in the prescription list. "
   ]
  },
  {
   "cell_type": "code",
   "execution_count": 23,
   "metadata": {},
   "outputs": [],
   "source": [
    "merged_df.loc[((merged_df['opioid'] == 0 )& ~(merged_df['mat_y'].isnull())),'opioid']=1 \n",
    "merged_df.loc[((merged_df['mat_x'] == 0 )& (merged_df['mat_y']==1)),'mat_x']=1 "
   ]
  },
  {
   "cell_type": "code",
   "execution_count": 24,
   "metadata": {},
   "outputs": [
    {
     "name": "stdout",
     "output_type": "stream",
     "text": [
      "0    196230\n",
      "1      7367\n",
      "Name: opioid, dtype: int64\n",
      "0    202936\n",
      "1       661\n",
      "Name: mat_x, dtype: int64\n"
     ]
    }
   ],
   "source": [
    "print(merged_df['opioid'].value_counts())\n",
    "print(merged_df['mat_x'].value_counts())     "
   ]
  },
  {
   "cell_type": "markdown",
   "metadata": {},
   "source": [
    "While number of prescriptions is tempting to use as the target variable, this dataset does not give any indication of the number of doses distributed per prescription. A better target is \"units_reimbursed\", as this accounts for each pill/injection/liquid dose paid for by Medicaid. "
   ]
  },
  {
   "cell_type": "code",
   "execution_count": 26,
   "metadata": {},
   "outputs": [],
   "source": [
    "#select only prescriptions of opioid medications\n",
    "#drop fields that are not necessary for modeling\n",
    "\n",
    "merged_df = merged_df[['_quarter_begin','period_covered', 'dea_schedule',\n",
    "                       'product_fda_list_name','total_amount_reimbursed',\n",
    "                       'units_reimbursed','mat_x','opioid']]\n",
    "merged_df = merged_df.loc[merged_df['opioid']== 1].reset_index(drop = True)"
   ]
  },
  {
   "cell_type": "code",
   "execution_count": 27,
   "metadata": {},
   "outputs": [],
   "source": [
    "#concatenate _quarter_begin and period_covered, convert to datetime\n",
    "merged_df[\"qtr_begin_dt\"] = pd.to_datetime(merged_df[\"_quarter_begin\"] + \"/\" + merged_df[\"period_covered\"])"
   ]
  },
  {
   "cell_type": "code",
   "execution_count": 29,
   "metadata": {},
   "outputs": [],
   "source": [
    "#drop unnecessary columns\n",
    "merged_df = merged_df[['qtr_begin_dt','mat_x','opioid','dea_schedule',\n",
    "                      'product_fda_list_name','total_amount_reimbursed','units_reimbursed']]"
   ]
  },
  {
   "cell_type": "code",
   "execution_count": 30,
   "metadata": {},
   "outputs": [
    {
     "data": {
      "text/html": [
       "<div>\n",
       "<style scoped>\n",
       "    .dataframe tbody tr th:only-of-type {\n",
       "        vertical-align: middle;\n",
       "    }\n",
       "\n",
       "    .dataframe tbody tr th {\n",
       "        vertical-align: top;\n",
       "    }\n",
       "\n",
       "    .dataframe thead th {\n",
       "        text-align: right;\n",
       "    }\n",
       "</style>\n",
       "<table border=\"1\" class=\"dataframe\">\n",
       "  <thead>\n",
       "    <tr style=\"text-align: right;\">\n",
       "      <th></th>\n",
       "      <th>qtr_begin_dt</th>\n",
       "      <th>mat_x</th>\n",
       "      <th>opioid</th>\n",
       "      <th>dea_schedule</th>\n",
       "      <th>product_fda_list_name</th>\n",
       "      <th>total_amount_reimbursed</th>\n",
       "      <th>units_reimbursed</th>\n",
       "    </tr>\n",
       "  </thead>\n",
       "  <tbody>\n",
       "    <tr>\n",
       "      <th>0</th>\n",
       "      <td>2015-07-01</td>\n",
       "      <td>0</td>\n",
       "      <td>1</td>\n",
       "      <td>CII</td>\n",
       "      <td>OXYCODONE</td>\n",
       "      <td>3534.01</td>\n",
       "      <td>6415</td>\n",
       "    </tr>\n",
       "    <tr>\n",
       "      <th>1</th>\n",
       "      <td>2015-04-01</td>\n",
       "      <td>0</td>\n",
       "      <td>1</td>\n",
       "      <td>CII</td>\n",
       "      <td>HYDROMORPH</td>\n",
       "      <td>9513.74</td>\n",
       "      <td>10502</td>\n",
       "    </tr>\n",
       "    <tr>\n",
       "      <th>2</th>\n",
       "      <td>2015-04-01</td>\n",
       "      <td>0</td>\n",
       "      <td>1</td>\n",
       "      <td>CIV</td>\n",
       "      <td>TRAMADOL H</td>\n",
       "      <td>3147.76</td>\n",
       "      <td>22643</td>\n",
       "    </tr>\n",
       "    <tr>\n",
       "      <th>3</th>\n",
       "      <td>2015-10-01</td>\n",
       "      <td>0</td>\n",
       "      <td>1</td>\n",
       "      <td>CII</td>\n",
       "      <td>PERCOCET</td>\n",
       "      <td>627.58</td>\n",
       "      <td>326</td>\n",
       "    </tr>\n",
       "    <tr>\n",
       "      <th>4</th>\n",
       "      <td>2015-10-01</td>\n",
       "      <td>0</td>\n",
       "      <td>1</td>\n",
       "      <td>CII</td>\n",
       "      <td>OXYCODONE-</td>\n",
       "      <td>21844.56</td>\n",
       "      <td>114101</td>\n",
       "    </tr>\n",
       "  </tbody>\n",
       "</table>\n",
       "</div>"
      ],
      "text/plain": [
       "  qtr_begin_dt  mat_x  opioid dea_schedule product_fda_list_name  \\\n",
       "0   2015-07-01      0       1          CII             OXYCODONE   \n",
       "1   2015-04-01      0       1          CII            HYDROMORPH   \n",
       "2   2015-04-01      0       1          CIV            TRAMADOL H   \n",
       "3   2015-10-01      0       1          CII              PERCOCET   \n",
       "4   2015-10-01      0       1          CII            OXYCODONE-   \n",
       "\n",
       "  total_amount_reimbursed units_reimbursed  \n",
       "0                 3534.01             6415  \n",
       "1                 9513.74            10502  \n",
       "2                 3147.76            22643  \n",
       "3                  627.58              326  \n",
       "4                21844.56           114101  "
      ]
     },
     "execution_count": 30,
     "metadata": {},
     "output_type": "execute_result"
    }
   ],
   "source": [
    "merged_df.head()"
   ]
  },
  {
   "cell_type": "code",
   "execution_count": 31,
   "metadata": {},
   "outputs": [
    {
     "name": "stdout",
     "output_type": "stream",
     "text": [
      "Stored 'merged_df' (DataFrame)\n"
     ]
    }
   ],
   "source": [
    "%store merged_df"
   ]
  },
  {
   "cell_type": "code",
   "execution_count": null,
   "metadata": {},
   "outputs": [],
   "source": []
  }
 ],
 "metadata": {
  "kernelspec": {
   "display_name": "Python 3",
   "language": "python",
   "name": "python3"
  },
  "language_info": {
   "codemirror_mode": {
    "name": "ipython",
    "version": 3
   },
   "file_extension": ".py",
   "mimetype": "text/x-python",
   "name": "python",
   "nbconvert_exporter": "python",
   "pygments_lexer": "ipython3",
   "version": "3.8.3"
  }
 },
 "nbformat": 4,
 "nbformat_minor": 4
}
