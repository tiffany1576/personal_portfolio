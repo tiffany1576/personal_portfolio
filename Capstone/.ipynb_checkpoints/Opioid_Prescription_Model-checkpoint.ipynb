{
 "cells": [
  {
   "cell_type": "code",
   "execution_count": 3,
   "metadata": {},
   "outputs": [],
   "source": [
    "%store -r merged_df"
   ]
  },
  {
   "cell_type": "code",
   "execution_count": 4,
   "metadata": {},
   "outputs": [],
   "source": [
    "import pandas as pd\n",
    "import numpy as np\n",
    "import datetime as dt\n",
    "import seaborn as sns\n",
    "import matplotlib.pyplot as plt"
   ]
  },
  {
   "cell_type": "markdown",
   "metadata": {},
   "source": [
    "## MODEL PREP AND MODELING DATA\n",
    "\n",
    "Check for Stationarity. Quick look at trends yoy by dea class"
   ]
  },
  {
   "cell_type": "code",
   "execution_count": 5,
   "metadata": {},
   "outputs": [
    {
     "data": {
      "text/html": [
       "<div>\n",
       "<style scoped>\n",
       "    .dataframe tbody tr th:only-of-type {\n",
       "        vertical-align: middle;\n",
       "    }\n",
       "\n",
       "    .dataframe tbody tr th {\n",
       "        vertical-align: top;\n",
       "    }\n",
       "\n",
       "    .dataframe thead th {\n",
       "        text-align: right;\n",
       "    }\n",
       "</style>\n",
       "<table border=\"1\" class=\"dataframe\">\n",
       "  <thead>\n",
       "    <tr style=\"text-align: right;\">\n",
       "      <th></th>\n",
       "      <th>qtr_begin_dt</th>\n",
       "      <th>mat_x</th>\n",
       "      <th>opioid</th>\n",
       "      <th>dea_schedule</th>\n",
       "      <th>product_fda_list_name</th>\n",
       "      <th>total_amount_reimbursed</th>\n",
       "      <th>units_reimbursed</th>\n",
       "      <th>total_medicaid_enrollees</th>\n",
       "      <th>units_per_1000</th>\n",
       "      <th>amount_per_1000</th>\n",
       "    </tr>\n",
       "  </thead>\n",
       "  <tbody>\n",
       "    <tr>\n",
       "      <th>0</th>\n",
       "      <td>2015-07-01</td>\n",
       "      <td>0</td>\n",
       "      <td>1</td>\n",
       "      <td>CII</td>\n",
       "      <td>HYDROCODON</td>\n",
       "      <td>6427.34</td>\n",
       "      <td>22498.0</td>\n",
       "      <td>1256961</td>\n",
       "      <td>17.898726</td>\n",
       "      <td>5.113397</td>\n",
       "    </tr>\n",
       "    <tr>\n",
       "      <th>1</th>\n",
       "      <td>2015-07-01</td>\n",
       "      <td>0</td>\n",
       "      <td>1</td>\n",
       "      <td>CII</td>\n",
       "      <td>HYDROCODON</td>\n",
       "      <td>988.06</td>\n",
       "      <td>2553.0</td>\n",
       "      <td>1256961</td>\n",
       "      <td>2.031089</td>\n",
       "      <td>0.786071</td>\n",
       "    </tr>\n",
       "    <tr>\n",
       "      <th>2</th>\n",
       "      <td>2015-07-01</td>\n",
       "      <td>0</td>\n",
       "      <td>1</td>\n",
       "      <td>CII</td>\n",
       "      <td>HYDROCODON</td>\n",
       "      <td>3232.17</td>\n",
       "      <td>10700.0</td>\n",
       "      <td>1256961</td>\n",
       "      <td>8.512595</td>\n",
       "      <td>2.571416</td>\n",
       "    </tr>\n",
       "    <tr>\n",
       "      <th>3</th>\n",
       "      <td>2015-07-01</td>\n",
       "      <td>0</td>\n",
       "      <td>1</td>\n",
       "      <td>CII</td>\n",
       "      <td>HYDROCODON</td>\n",
       "      <td>716.38</td>\n",
       "      <td>3265.0</td>\n",
       "      <td>1256961</td>\n",
       "      <td>2.597535</td>\n",
       "      <td>0.569930</td>\n",
       "    </tr>\n",
       "    <tr>\n",
       "      <th>4</th>\n",
       "      <td>2015-10-01</td>\n",
       "      <td>0</td>\n",
       "      <td>1</td>\n",
       "      <td>CII</td>\n",
       "      <td>HYDROCODON</td>\n",
       "      <td>4808.66</td>\n",
       "      <td>2049.0</td>\n",
       "      <td>1266818</td>\n",
       "      <td>1.617438</td>\n",
       "      <td>3.795857</td>\n",
       "    </tr>\n",
       "  </tbody>\n",
       "</table>\n",
       "</div>"
      ],
      "text/plain": [
       "  qtr_begin_dt  mat_x  opioid dea_schedule product_fda_list_name  \\\n",
       "0   2015-07-01      0       1          CII            HYDROCODON   \n",
       "1   2015-07-01      0       1          CII            HYDROCODON   \n",
       "2   2015-07-01      0       1          CII            HYDROCODON   \n",
       "3   2015-07-01      0       1          CII            HYDROCODON   \n",
       "4   2015-10-01      0       1          CII            HYDROCODON   \n",
       "\n",
       "   total_amount_reimbursed  units_reimbursed  total_medicaid_enrollees  \\\n",
       "0                  6427.34           22498.0                   1256961   \n",
       "1                   988.06            2553.0                   1256961   \n",
       "2                  3232.17           10700.0                   1256961   \n",
       "3                   716.38            3265.0                   1256961   \n",
       "4                  4808.66            2049.0                   1266818   \n",
       "\n",
       "   units_per_1000  amount_per_1000  \n",
       "0       17.898726         5.113397  \n",
       "1        2.031089         0.786071  \n",
       "2        8.512595         2.571416  \n",
       "3        2.597535         0.569930  \n",
       "4        1.617438         3.795857  "
      ]
     },
     "execution_count": 5,
     "metadata": {},
     "output_type": "execute_result"
    }
   ],
   "source": [
    "merged_df.head"
   ]
  },
  {
   "cell_type": "markdown",
   "metadata": {},
   "source": [
    "need to use date as index. group by product_fda_list_name and qtr_begin_dt to sum units/amounts"
   ]
  },
  {
   "cell_type": "code",
   "execution_count": 14,
   "metadata": {},
   "outputs": [],
   "source": [
    "grouped_df = merged_df.groupby(['qtr_begin_dt','mat_x','opioid','dea_schedule','product_fda_list_name']).sum()"
   ]
  },
  {
   "cell_type": "code",
   "execution_count": null,
   "metadata": {},
   "outputs": [],
   "source": []
  }
 ],
 "metadata": {
  "kernelspec": {
   "display_name": "Python 3",
   "language": "python",
   "name": "python3"
  },
  "language_info": {
   "codemirror_mode": {
    "name": "ipython",
    "version": 3
   },
   "file_extension": ".py",
   "mimetype": "text/x-python",
   "name": "python",
   "nbconvert_exporter": "python",
   "pygments_lexer": "ipython3",
   "version": "3.8.3"
  }
 },
 "nbformat": 4,
 "nbformat_minor": 4
}
