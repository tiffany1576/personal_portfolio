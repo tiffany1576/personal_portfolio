{
 "cells": [
  {
   "cell_type": "code",
   "execution_count": 1,
   "metadata": {},
   "outputs": [],
   "source": [
    "%store -r merged_df"
   ]
  },
  {
   "cell_type": "code",
   "execution_count": 2,
   "metadata": {},
   "outputs": [],
   "source": [
    "import pandas as pd\n",
    "import numpy as np\n",
    "import datetime as dt\n",
    "import seaborn as sns\n",
    "import matplotlib.pyplot as plt\n",
    "\n",
    "#auto arima time series modeling package\n",
    "from pmdarima import auto_arima\n",
    "#seasonal decomposition\n",
    "from statsmodels.tsa.seasonal import seasonal_decompose"
   ]
  },
  {
   "cell_type": "markdown",
   "metadata": {},
   "source": [
    "## MODEL PREP AND MODELING DATA\n",
    "\n"
   ]
  },
  {
   "cell_type": "markdown",
   "metadata": {},
   "source": [
    "Reindex with qtr_begin_dt. Group by product_fda_list_name and qtr_begin_dt to sum units/amounts. Split by DEA Schedule, MAT vs non-MAT. Create smaller subset that is date and units_per_1000"
   ]
  },
  {
   "cell_type": "code",
   "execution_count": 3,
   "metadata": {},
   "outputs": [],
   "source": [
    "grouped_df = merged_df.groupby(['qtr_begin_dt','mat_x','opioid','dea_schedule','product_fda_list_name']).sum()\n"
   ]
  },
  {
   "cell_type": "code",
   "execution_count": 4,
   "metadata": {},
   "outputs": [],
   "source": [
    "grp_dea_sched_df = merged_df.groupby(['qtr_begin_dt','mat_x','opioid','dea_schedule','enrollment']).sum().reset_index()"
   ]
  },
  {
   "cell_type": "code",
   "execution_count": 5,
   "metadata": {},
   "outputs": [],
   "source": [
    "grp_dea_sched_df.set_index(pd.DatetimeIndex(grp_dea_sched_df['qtr_begin_dt']), inplace = True)\n",
    "grp_dea_sched_df.drop(columns = ['qtr_begin_dt'], inplace = True)"
   ]
  },
  {
   "cell_type": "code",
   "execution_count": 6,
   "metadata": {},
   "outputs": [
    {
     "data": {
      "text/html": [
       "<div>\n",
       "<style scoped>\n",
       "    .dataframe tbody tr th:only-of-type {\n",
       "        vertical-align: middle;\n",
       "    }\n",
       "\n",
       "    .dataframe tbody tr th {\n",
       "        vertical-align: top;\n",
       "    }\n",
       "\n",
       "    .dataframe thead th {\n",
       "        text-align: right;\n",
       "    }\n",
       "</style>\n",
       "<table border=\"1\" class=\"dataframe\">\n",
       "  <thead>\n",
       "    <tr style=\"text-align: right;\">\n",
       "      <th></th>\n",
       "      <th>mat_x</th>\n",
       "      <th>opioid</th>\n",
       "      <th>dea_schedule</th>\n",
       "      <th>enrollment</th>\n",
       "      <th>total_amount_reimbursed</th>\n",
       "      <th>units_reimbursed</th>\n",
       "      <th>units_per_1000</th>\n",
       "      <th>amount_per_1000</th>\n",
       "    </tr>\n",
       "    <tr>\n",
       "      <th>qtr_begin_dt</th>\n",
       "      <th></th>\n",
       "      <th></th>\n",
       "      <th></th>\n",
       "      <th></th>\n",
       "      <th></th>\n",
       "      <th></th>\n",
       "      <th></th>\n",
       "      <th></th>\n",
       "    </tr>\n",
       "  </thead>\n",
       "  <tbody>\n",
       "    <tr>\n",
       "      <th>2015-01-01</th>\n",
       "      <td>0</td>\n",
       "      <td>1</td>\n",
       "      <td>CII</td>\n",
       "      <td>1.259749e+06</td>\n",
       "      <td>3480933.12</td>\n",
       "      <td>6858087.43</td>\n",
       "      <td>5444.012454</td>\n",
       "      <td>2763.196511</td>\n",
       "    </tr>\n",
       "    <tr>\n",
       "      <th>2015-01-01</th>\n",
       "      <td>0</td>\n",
       "      <td>1</td>\n",
       "      <td>CIII</td>\n",
       "      <td>1.259749e+06</td>\n",
       "      <td>220893.23</td>\n",
       "      <td>335836.00</td>\n",
       "      <td>266.589685</td>\n",
       "      <td>175.347064</td>\n",
       "    </tr>\n",
       "    <tr>\n",
       "      <th>2015-01-01</th>\n",
       "      <td>0</td>\n",
       "      <td>1</td>\n",
       "      <td>CIV</td>\n",
       "      <td>1.259749e+06</td>\n",
       "      <td>94139.87</td>\n",
       "      <td>841797.00</td>\n",
       "      <td>668.226149</td>\n",
       "      <td>74.729089</td>\n",
       "    </tr>\n",
       "    <tr>\n",
       "      <th>2015-01-01</th>\n",
       "      <td>0</td>\n",
       "      <td>1</td>\n",
       "      <td>CV</td>\n",
       "      <td>1.259749e+06</td>\n",
       "      <td>2722.34</td>\n",
       "      <td>66911.78</td>\n",
       "      <td>53.115182</td>\n",
       "      <td>2.161018</td>\n",
       "    </tr>\n",
       "    <tr>\n",
       "      <th>2015-01-01</th>\n",
       "      <td>1</td>\n",
       "      <td>1</td>\n",
       "      <td>CII</td>\n",
       "      <td>1.259749e+06</td>\n",
       "      <td>31869.02</td>\n",
       "      <td>189851.00</td>\n",
       "      <td>150.705458</td>\n",
       "      <td>25.297919</td>\n",
       "    </tr>\n",
       "  </tbody>\n",
       "</table>\n",
       "</div>"
      ],
      "text/plain": [
       "              mat_x  opioid dea_schedule    enrollment  \\\n",
       "qtr_begin_dt                                             \n",
       "2015-01-01        0       1          CII  1.259749e+06   \n",
       "2015-01-01        0       1         CIII  1.259749e+06   \n",
       "2015-01-01        0       1          CIV  1.259749e+06   \n",
       "2015-01-01        0       1           CV  1.259749e+06   \n",
       "2015-01-01        1       1          CII  1.259749e+06   \n",
       "\n",
       "              total_amount_reimbursed  units_reimbursed  units_per_1000  \\\n",
       "qtr_begin_dt                                                              \n",
       "2015-01-01                 3480933.12        6858087.43     5444.012454   \n",
       "2015-01-01                  220893.23         335836.00      266.589685   \n",
       "2015-01-01                   94139.87         841797.00      668.226149   \n",
       "2015-01-01                    2722.34          66911.78       53.115182   \n",
       "2015-01-01                   31869.02         189851.00      150.705458   \n",
       "\n",
       "              amount_per_1000  \n",
       "qtr_begin_dt                   \n",
       "2015-01-01        2763.196511  \n",
       "2015-01-01         175.347064  \n",
       "2015-01-01          74.729089  \n",
       "2015-01-01           2.161018  \n",
       "2015-01-01          25.297919  "
      ]
     },
     "execution_count": 6,
     "metadata": {},
     "output_type": "execute_result"
    }
   ],
   "source": [
    "grp_dea_sched_df.head()"
   ]
  },
  {
   "cell_type": "code",
   "execution_count": 7,
   "metadata": {},
   "outputs": [],
   "source": [
    "CII = grp_dea_sched_df.loc[grp_dea_sched_df['dea_schedule']== 'CII']\n",
    "CIII = grp_dea_sched_df.loc[grp_dea_sched_df['dea_schedule']== 'CIII']\n",
    "\n",
    "CIV = grp_dea_sched_df.loc[grp_dea_sched_df['dea_schedule']== 'CIV']\n",
    "\n",
    "CV = grp_dea_sched_df.loc[grp_dea_sched_df['dea_schedule']== 'CV']\n",
    "\n",
    "MAT_df = grp_dea_sched_df.loc[grp_dea_sched_df['mat_x'] == 1]\n",
    "Non_MAT_df = grp_dea_sched_df.loc[grp_dea_sched_df['mat_x']==0]"
   ]
  },
  {
   "cell_type": "code",
   "execution_count": 8,
   "metadata": {},
   "outputs": [
    {
     "data": {
      "text/html": [
       "<div>\n",
       "<style scoped>\n",
       "    .dataframe tbody tr th:only-of-type {\n",
       "        vertical-align: middle;\n",
       "    }\n",
       "\n",
       "    .dataframe tbody tr th {\n",
       "        vertical-align: top;\n",
       "    }\n",
       "\n",
       "    .dataframe thead th {\n",
       "        text-align: right;\n",
       "    }\n",
       "</style>\n",
       "<table border=\"1\" class=\"dataframe\">\n",
       "  <thead>\n",
       "    <tr style=\"text-align: right;\">\n",
       "      <th></th>\n",
       "      <th>mat_x</th>\n",
       "      <th>opioid</th>\n",
       "      <th>dea_schedule</th>\n",
       "      <th>enrollment</th>\n",
       "      <th>total_amount_reimbursed</th>\n",
       "      <th>units_reimbursed</th>\n",
       "      <th>units_per_1000</th>\n",
       "      <th>amount_per_1000</th>\n",
       "    </tr>\n",
       "    <tr>\n",
       "      <th>qtr_begin_dt</th>\n",
       "      <th></th>\n",
       "      <th></th>\n",
       "      <th></th>\n",
       "      <th></th>\n",
       "      <th></th>\n",
       "      <th></th>\n",
       "      <th></th>\n",
       "      <th></th>\n",
       "    </tr>\n",
       "  </thead>\n",
       "  <tbody>\n",
       "    <tr>\n",
       "      <th>2015-01-01</th>\n",
       "      <td>0</td>\n",
       "      <td>1</td>\n",
       "      <td>CII</td>\n",
       "      <td>1.259749e+06</td>\n",
       "      <td>3480933.12</td>\n",
       "      <td>6858087.43</td>\n",
       "      <td>5444.012454</td>\n",
       "      <td>2763.196511</td>\n",
       "    </tr>\n",
       "    <tr>\n",
       "      <th>2015-01-01</th>\n",
       "      <td>1</td>\n",
       "      <td>1</td>\n",
       "      <td>CII</td>\n",
       "      <td>1.259749e+06</td>\n",
       "      <td>31869.02</td>\n",
       "      <td>189851.00</td>\n",
       "      <td>150.705458</td>\n",
       "      <td>25.297919</td>\n",
       "    </tr>\n",
       "    <tr>\n",
       "      <th>2015-04-01</th>\n",
       "      <td>0</td>\n",
       "      <td>1</td>\n",
       "      <td>CII</td>\n",
       "      <td>1.269057e+06</td>\n",
       "      <td>2331363.77</td>\n",
       "      <td>4306551.47</td>\n",
       "      <td>3393.506045</td>\n",
       "      <td>1837.084057</td>\n",
       "    </tr>\n",
       "    <tr>\n",
       "      <th>2015-04-01</th>\n",
       "      <td>1</td>\n",
       "      <td>1</td>\n",
       "      <td>CII</td>\n",
       "      <td>1.269057e+06</td>\n",
       "      <td>5094.11</td>\n",
       "      <td>25444.00</td>\n",
       "      <td>20.049538</td>\n",
       "      <td>4.014092</td>\n",
       "    </tr>\n",
       "    <tr>\n",
       "      <th>2015-07-01</th>\n",
       "      <td>0</td>\n",
       "      <td>1</td>\n",
       "      <td>CII</td>\n",
       "      <td>1.262296e+06</td>\n",
       "      <td>1351597.55</td>\n",
       "      <td>3576911.91</td>\n",
       "      <td>2833.655426</td>\n",
       "      <td>1070.745332</td>\n",
       "    </tr>\n",
       "  </tbody>\n",
       "</table>\n",
       "</div>"
      ],
      "text/plain": [
       "              mat_x  opioid dea_schedule    enrollment  \\\n",
       "qtr_begin_dt                                             \n",
       "2015-01-01        0       1          CII  1.259749e+06   \n",
       "2015-01-01        1       1          CII  1.259749e+06   \n",
       "2015-04-01        0       1          CII  1.269057e+06   \n",
       "2015-04-01        1       1          CII  1.269057e+06   \n",
       "2015-07-01        0       1          CII  1.262296e+06   \n",
       "\n",
       "              total_amount_reimbursed  units_reimbursed  units_per_1000  \\\n",
       "qtr_begin_dt                                                              \n",
       "2015-01-01                 3480933.12        6858087.43     5444.012454   \n",
       "2015-01-01                   31869.02         189851.00      150.705458   \n",
       "2015-04-01                 2331363.77        4306551.47     3393.506045   \n",
       "2015-04-01                    5094.11          25444.00       20.049538   \n",
       "2015-07-01                 1351597.55        3576911.91     2833.655426   \n",
       "\n",
       "              amount_per_1000  \n",
       "qtr_begin_dt                   \n",
       "2015-01-01        2763.196511  \n",
       "2015-01-01          25.297919  \n",
       "2015-04-01        1837.084057  \n",
       "2015-04-01           4.014092  \n",
       "2015-07-01        1070.745332  "
      ]
     },
     "execution_count": 8,
     "metadata": {},
     "output_type": "execute_result"
    }
   ],
   "source": [
    "CII.head()"
   ]
  },
  {
   "cell_type": "markdown",
   "metadata": {},
   "source": [
    "First approach is to trend/forecast based on each class of drugs. "
   ]
  },
  {
   "cell_type": "code",
   "execution_count": 9,
   "metadata": {},
   "outputs": [],
   "source": [
    "CII_Non_MAT = CII.loc[CII['mat_x']== 0]\n",
    "CIII_Non_MAT = CIII.loc[CIII['mat_x']== 0]\n",
    "CIV_Non_MAT = CIV.loc[CIV['mat_x']== 0]\n",
    "CV_Non_MAT = CV.loc[CV['mat_x']== 0]\n",
    "\n"
   ]
  },
  {
   "cell_type": "code",
   "execution_count": 10,
   "metadata": {},
   "outputs": [
    {
     "data": {
      "text/plain": [
       "array([ 53.11518223,  76.35317047,  82.45402029, 105.66775389,\n",
       "       319.17759739,  32.10821545,   9.62239438,   9.93500471,\n",
       "       340.55170718, 215.20966192, 167.84324158, 238.42999096,\n",
       "       238.44368746, 134.54807484, 114.1781621 , 165.77280316,\n",
       "       182.54948342,  96.8980509 ,  79.27828128,  66.31377313])"
      ]
     },
     "execution_count": 10,
     "metadata": {},
     "output_type": "execute_result"
    }
   ],
   "source": [
    "CV_Non_MAT['units_per_1000'].unique()"
   ]
  },
  {
   "cell_type": "code",
   "execution_count": 11,
   "metadata": {},
   "outputs": [
    {
     "name": "stderr",
     "output_type": "stream",
     "text": [
      "/Users/shishi/anaconda3/lib/python3.8/site-packages/pandas/core/indexing.py:966: SettingWithCopyWarning: \n",
      "A value is trying to be set on a copy of a slice from a DataFrame.\n",
      "Try using .loc[row_indexer,col_indexer] = value instead\n",
      "\n",
      "See the caveats in the documentation: https://pandas.pydata.org/pandas-docs/stable/user_guide/indexing.html#returning-a-view-versus-a-copy\n",
      "  self.obj[item] = s\n"
     ]
    }
   ],
   "source": [
    "CII_Non_MAT.loc[:,\"units_per_1000\"] = pd.to_numeric(CII_Non_MAT[\"units_per_1000\"], errors = \"coerce\")\n",
    "CIII_Non_MAT.loc[:,\"units_per_1000\"] = pd.to_numeric(CIII_Non_MAT[\"units_per_1000\"], errors = \"coerce\")\n",
    "CIV_Non_MAT.loc[:,\"units_per_1000\"] = pd.to_numeric(CIV_Non_MAT[\"units_per_1000\"], errors = \"coerce\")\n",
    "CV_Non_MAT.loc[:,\"units_per_1000\"] = pd.to_numeric(CV_Non_MAT[\"units_per_1000\"], errors = \"coerce\")"
   ]
  },
  {
   "cell_type": "code",
   "execution_count": 12,
   "metadata": {},
   "outputs": [
    {
     "data": {
      "text/plain": [
       "Index(['mat_x', 'opioid', 'dea_schedule', 'enrollment',\n",
       "       'total_amount_reimbursed', 'units_reimbursed', 'units_per_1000',\n",
       "       'amount_per_1000'],\n",
       "      dtype='object')"
      ]
     },
     "execution_count": 12,
     "metadata": {},
     "output_type": "execute_result"
    }
   ],
   "source": [
    "grp_dea_sched_df.columns"
   ]
  },
  {
   "cell_type": "code",
   "execution_count": 13,
   "metadata": {},
   "outputs": [
    {
     "data": {
      "image/png": "[encoded data removed]",
      "text/plain": [
       "<Figure size 432x288 with 1 Axes>"
      ]
     },
     "metadata": {
      "needs_background": "light"
     },
     "output_type": "display_data"
    }
   ],
   "source": [
    "pd.plotting.autocorrelation_plot(CIV_Non_MAT.units_per_1000);"
   ]
  },
  {
   "cell_type": "code",
   "execution_count": 14,
   "metadata": {},
   "outputs": [
    {
     "data": {
      "image/png": "[encoded data removed]",
      "text/plain": [
       "<Figure size 432x288 with 1 Axes>"
      ]
     },
     "metadata": {
      "needs_background": "light"
     },
     "output_type": "display_data"
    }
   ],
   "source": [
    "pd.plotting.autocorrelation_plot(CV_Non_MAT.units_per_1000);"
   ]
  },
  {
   "cell_type": "code",
   "execution_count": 15,
   "metadata": {},
   "outputs": [
    {
     "data": {
      "image/png": "[encoded data removed]",
      "text/plain": [
       "<Figure size 432x288 with 1 Axes>"
      ]
     },
     "metadata": {
      "needs_background": "light"
     },
     "output_type": "display_data"
    }
   ],
   "source": [
    "pd.plotting.autocorrelation_plot(CIII_Non_MAT.units_per_1000);"
   ]
  },
  {
   "cell_type": "code",
   "execution_count": 16,
   "metadata": {},
   "outputs": [
    {
     "data": {
      "image/png": "[encoded data removed]",
      "text/plain": [
       "<Figure size 432x288 with 1 Axes>"
      ]
     },
     "metadata": {
      "needs_background": "light"
     },
     "output_type": "display_data"
    }
   ],
   "source": [
    "pd.plotting.autocorrelation_plot(CII_Non_MAT.units_per_1000);"
   ]
  },
  {
   "cell_type": "code",
   "execution_count": 17,
   "metadata": {},
   "outputs": [
    {
     "data": {
      "image/png": "[encoded data removed]",
      "text/plain": [
       "<Figure size 432x288 with 4 Axes>"
      ]
     },
     "metadata": {
      "needs_background": "light"
     },
     "output_type": "display_data"
    }
   ],
   "source": [
    "# Decompose time series into trend, seasonal, and residual components.\n",
    "decomp = seasonal_decompose(CII_Non_MAT['units_per_1000'])\n",
    "\n",
    "# Plot the decomposed time series.\n",
    "decomp.plot();"
   ]
  },
  {
   "cell_type": "code",
   "execution_count": 18,
   "metadata": {},
   "outputs": [
    {
     "data": {
      "image/png": "[encoded data removed]",
      "text/plain": [
       "<Figure size 432x288 with 4 Axes>"
      ]
     },
     "metadata": {
      "needs_background": "light"
     },
     "output_type": "display_data"
    }
   ],
   "source": [
    "# Decompose time series into trend, seasonal, and residual components.\n",
    "decomp = seasonal_decompose(CIII_Non_MAT['units_per_1000'])\n",
    "\n",
    "# Plot the decomposed time series.\n",
    "decomp.plot();"
   ]
  },
  {
   "cell_type": "code",
   "execution_count": 19,
   "metadata": {},
   "outputs": [
    {
     "data": {
      "image/png": "[encoded data removed]",
      "text/plain": [
       "<Figure size 432x288 with 4 Axes>"
      ]
     },
     "metadata": {
      "needs_background": "light"
     },
     "output_type": "display_data"
    }
   ],
   "source": [
    "# Decompose time series into trend, seasonal, and residual components.\n",
    "decomp = seasonal_decompose(CIV_Non_MAT['units_per_1000'])\n",
    "\n",
    "# Plot the decomposed time series.\n",
    "decomp.plot();"
   ]
  },
  {
   "cell_type": "code",
   "execution_count": 20,
   "metadata": {},
   "outputs": [
    {
     "data": {
      "image/png": "[encoded data removed]",
      "text/plain": [
       "<Figure size 432x288 with 4 Axes>"
      ]
     },
     "metadata": {
      "needs_background": "light"
     },
     "output_type": "display_data"
    }
   ],
   "source": [
    "# Decompose time series into trend, seasonal, and residual components.\n",
    "decomp = seasonal_decompose(CV_Non_MAT['units_per_1000'])\n",
    "\n",
    "# Plot the decomposed time series.\n",
    "decomp.plot();"
   ]
  },
  {
   "cell_type": "markdown",
   "metadata": {},
   "source": [
    "Based on the decomposition and autocorrelation plots, the seasonality and trend for each class is generally similar. Instead of a breakdown by class, trend and forecast based on all opioids dispensed. Use MAT vs non-MAT to classify. "
   ]
  },
  {
   "cell_type": "markdown",
   "metadata": {},
   "source": [
    "Using functions from statsmodels.api documentation, performing Dickey-Fuller and KPSS to test for stationarity with MAT vs Non_MAT timeseries. "
   ]
  },
  {
   "cell_type": "code",
   "execution_count": 21,
   "metadata": {},
   "outputs": [],
   "source": [
    "MAT_df = MAT_df.groupby(['qtr_begin_dt','mat_x','opioid','enrollment']).sum()\n",
    "MAT_df = MAT_df[['units_per_1000']]\n",
    "\n",
    "\n"
   ]
  },
  {
   "cell_type": "code",
   "execution_count": 22,
   "metadata": {},
   "outputs": [],
   "source": [
    "Non_MAT_df = Non_MAT_df.groupby(['qtr_begin_dt','mat_x','opioid','enrollment']).sum()\n",
    "Non_MAT_df = Non_MAT_df[['units_per_1000']]"
   ]
  },
  {
   "cell_type": "code",
   "execution_count": 23,
   "metadata": {},
   "outputs": [
    {
     "data": {
      "text/html": [
       "<div>\n",
       "<style scoped>\n",
       "    .dataframe tbody tr th:only-of-type {\n",
       "        vertical-align: middle;\n",
       "    }\n",
       "\n",
       "    .dataframe tbody tr th {\n",
       "        vertical-align: top;\n",
       "    }\n",
       "\n",
       "    .dataframe thead th {\n",
       "        text-align: right;\n",
       "    }\n",
       "</style>\n",
       "<table border=\"1\" class=\"dataframe\">\n",
       "  <thead>\n",
       "    <tr style=\"text-align: right;\">\n",
       "      <th></th>\n",
       "      <th></th>\n",
       "      <th></th>\n",
       "      <th></th>\n",
       "      <th>units_per_1000</th>\n",
       "    </tr>\n",
       "    <tr>\n",
       "      <th>qtr_begin_dt</th>\n",
       "      <th>mat_x</th>\n",
       "      <th>opioid</th>\n",
       "      <th>enrollment</th>\n",
       "      <th></th>\n",
       "    </tr>\n",
       "  </thead>\n",
       "  <tbody>\n",
       "    <tr>\n",
       "      <th>2015-01-01</th>\n",
       "      <th>1</th>\n",
       "      <th>1</th>\n",
       "      <th>1.259749e+06</th>\n",
       "      <td>1467.021993</td>\n",
       "    </tr>\n",
       "    <tr>\n",
       "      <th>2015-04-01</th>\n",
       "      <th>1</th>\n",
       "      <th>1</th>\n",
       "      <th>1.269057e+06</th>\n",
       "      <td>1174.649233</td>\n",
       "    </tr>\n",
       "    <tr>\n",
       "      <th>2015-07-01</th>\n",
       "      <th>1</th>\n",
       "      <th>1</th>\n",
       "      <th>1.262296e+06</th>\n",
       "      <td>816.843672</td>\n",
       "    </tr>\n",
       "    <tr>\n",
       "      <th>2015-10-01</th>\n",
       "      <th>1</th>\n",
       "      <th>1</th>\n",
       "      <th>1.269899e+06</th>\n",
       "      <td>774.852488</td>\n",
       "    </tr>\n",
       "    <tr>\n",
       "      <th>2016-01-01</th>\n",
       "      <th>1</th>\n",
       "      <th>1</th>\n",
       "      <th>1.279065e+06</th>\n",
       "      <td>966.010858</td>\n",
       "    </tr>\n",
       "  </tbody>\n",
       "</table>\n",
       "</div>"
      ],
      "text/plain": [
       "                                        units_per_1000\n",
       "qtr_begin_dt mat_x opioid enrollment                  \n",
       "2015-01-01   1     1      1.259749e+06     1467.021993\n",
       "2015-04-01   1     1      1.269057e+06     1174.649233\n",
       "2015-07-01   1     1      1.262296e+06      816.843672\n",
       "2015-10-01   1     1      1.269899e+06      774.852488\n",
       "2016-01-01   1     1      1.279065e+06      966.010858"
      ]
     },
     "execution_count": 23,
     "metadata": {},
     "output_type": "execute_result"
    }
   ],
   "source": [
    "MAT_df.head()"
   ]
  },
  {
   "cell_type": "code",
   "execution_count": 24,
   "metadata": {},
   "outputs": [],
   "source": [
    "from statsmodels.tsa.stattools import adfuller\n",
    "def adf_test(timeseries):\n",
    "    print ('Results of Dickey-Fuller Test:')\n",
    "    dftest = adfuller(timeseries, autolag='AIC')\n",
    "    dfoutput = pd.Series(dftest[0:4], index=['Test Statistic','p-value','#Lags Used','Number of Observations Used'])\n",
    "    for key,value in dftest[4].items():\n",
    "       dfoutput['Critical Value (%s)'%key] = value\n",
    "    print (dfoutput)"
   ]
  },
  {
   "cell_type": "code",
   "execution_count": 25,
   "metadata": {},
   "outputs": [],
   "source": [
    "from statsmodels.tsa.stattools import kpss\n",
    "def kpss_test(timeseries):\n",
    "    print ('Results of KPSS Test:')\n",
    "    kpsstest = kpss(timeseries, regression='c', nlags=\"auto\")\n",
    "    kpss_output = pd.Series(kpsstest[0:3], index=['Test Statistic','p-value','Lags Used'])\n",
    "    for key,value in kpsstest[3].items():\n",
    "        kpss_output['Critical Value (%s)'%key] = value\n",
    "    print (kpss_output)"
   ]
  },
  {
   "cell_type": "code",
   "execution_count": 26,
   "metadata": {},
   "outputs": [
    {
     "name": "stdout",
     "output_type": "stream",
     "text": [
      "Results of Dickey-Fuller Test:\n",
      "Test Statistic                -21.310598\n",
      "p-value                         0.000000\n",
      "#Lags Used                      8.000000\n",
      "Number of Observations Used    11.000000\n",
      "Critical Value (1%)            -4.223238\n",
      "Critical Value (5%)            -3.189369\n",
      "Critical Value (10%)           -2.729839\n",
      "dtype: float64\n"
     ]
    }
   ],
   "source": [
    "adf_test(MAT_df)"
   ]
  },
  {
   "cell_type": "code",
   "execution_count": 27,
   "metadata": {},
   "outputs": [
    {
     "name": "stdout",
     "output_type": "stream",
     "text": [
      "Results of KPSS Test:\n",
      "Test Statistic           0.611901\n",
      "p-value                  0.021554\n",
      "Lags Used                2.000000\n",
      "Critical Value (10%)     0.347000\n",
      "Critical Value (5%)      0.463000\n",
      "Critical Value (2.5%)    0.574000\n",
      "Critical Value (1%)      0.739000\n",
      "dtype: float64\n"
     ]
    }
   ],
   "source": [
    "kpss_test(MAT_df)"
   ]
  },
  {
   "cell_type": "code",
   "execution_count": 28,
   "metadata": {},
   "outputs": [
    {
     "name": "stdout",
     "output_type": "stream",
     "text": [
      "Results of Dickey-Fuller Test:\n",
      "Test Statistic                 -1.217411\n",
      "p-value                         0.666062\n",
      "#Lags Used                      1.000000\n",
      "Number of Observations Used    18.000000\n",
      "Critical Value (1%)            -3.859073\n",
      "Critical Value (5%)            -3.042046\n",
      "Critical Value (10%)           -2.660906\n",
      "dtype: float64\n"
     ]
    }
   ],
   "source": [
    "adf_test(Non_MAT_df)"
   ]
  },
  {
   "cell_type": "code",
   "execution_count": 29,
   "metadata": {},
   "outputs": [
    {
     "name": "stdout",
     "output_type": "stream",
     "text": [
      "Results of KPSS Test:\n",
      "Test Statistic           0.341503\n",
      "p-value                  0.100000\n",
      "Lags Used                2.000000\n",
      "Critical Value (10%)     0.347000\n",
      "Critical Value (5%)      0.463000\n",
      "Critical Value (2.5%)    0.574000\n",
      "Critical Value (1%)      0.739000\n",
      "dtype: float64\n"
     ]
    },
    {
     "name": "stderr",
     "output_type": "stream",
     "text": [
      "/Users/shishi/anaconda3/lib/python3.8/site-packages/statsmodels/tsa/stattools.py:1687: InterpolationWarning: p-value is greater than the indicated p-value\n",
      "  warn(\"p-value is greater than the indicated p-value\", InterpolationWarning)\n"
     ]
    }
   ],
   "source": [
    "kpss_test(Non_MAT_df)"
   ]
  },
  {
   "cell_type": "markdown",
   "metadata": {},
   "source": [
    "Data does not appear to be stationary. Trying differencing by subtracting one shift and then 2 shifts. Plot. "
   ]
  },
  {
   "cell_type": "code",
   "execution_count": 30,
   "metadata": {},
   "outputs": [
    {
     "data": {
      "text/plain": [
       "<matplotlib.axes._subplots.AxesSubplot at 0x7f99053bf280>"
      ]
     },
     "execution_count": 30,
     "metadata": {},
     "output_type": "execute_result"
    },
    {
     "data": {
      "image/png": "[encoded data removed]",
      "text/plain": [
       "<Figure size 864x576 with 1 Axes>"
      ]
     },
     "metadata": {
      "needs_background": "light"
     },
     "output_type": "display_data"
    }
   ],
   "source": [
    "MAT_df['MAT_df_diff1'] = MAT_df['units_per_1000'] - MAT_df['units_per_1000'].shift(1)\n",
    "MAT_df['MAT_df_diff2'] = MAT_df['MAT_df_diff1'] - MAT_df['units_per_1000'].shift(2)\n",
    "MAT_df= MAT_df.dropna()\n",
    "MAT_df['units_per_1000'].plot(figsize =(12,8), legend = True, title = 'MAT_Timeseries')\n",
    "MAT_df['MAT_df_diff1'].plot(figsize = (12,8), legend = True)\n",
    "MAT_df['MAT_df_diff2'].plot(figsize = (12,8), legend = True)"
   ]
  },
  {
   "cell_type": "code",
   "execution_count": 31,
   "metadata": {},
   "outputs": [
    {
     "data": {
      "text/plain": [
       "<matplotlib.axes._subplots.AxesSubplot at 0x7f990541c280>"
      ]
     },
     "execution_count": 31,
     "metadata": {},
     "output_type": "execute_result"
    },
    {
     "data": {
      "image/png": "[encoded data removed]",
      "text/plain": [
       "<Figure size 864x576 with 1 Axes>"
      ]
     },
     "metadata": {
      "needs_background": "light"
     },
     "output_type": "display_data"
    }
   ],
   "source": [
    "Non_MAT_df['Non_MAT_df_diff1'] = Non_MAT_df['units_per_1000'] - Non_MAT_df['units_per_1000'].shift(1) \n",
    "Non_MAT_df['Non_MAT_df_diff2'] = Non_MAT_df['Non_MAT_df_diff1'] - Non_MAT_df['units_per_1000'].shift(2)\n",
    "Non_MAT_df= Non_MAT_df.dropna()\n",
    "Non_MAT_df['units_per_1000'].plot(figsize = (12,8), legend = True, title = 'Non_MAT_Timeseries')\n",
    "Non_MAT_df['Non_MAT_df_diff1'].plot(figsize = (12,8), legend = True)\n",
    "Non_MAT_df['Non_MAT_df_diff2'].plot(figsize = (12,8), legend = True)"
   ]
  },
  {
   "cell_type": "markdown",
   "metadata": {},
   "source": [
    "Interestingly, the MAT units_per_1000 time series demonstrates stationarity, but the non-MAT timeseries does not demonstrate stationarity, even with differentiation"
   ]
  },
  {
   "cell_type": "code",
   "execution_count": 32,
   "metadata": {},
   "outputs": [
    {
     "name": "stdout",
     "output_type": "stream",
     "text": [
      "Results of Dickey-Fuller Test:\n",
      "Test Statistic                 -2.183427\n",
      "p-value                         0.212315\n",
      "#Lags Used                      1.000000\n",
      "Number of Observations Used    16.000000\n",
      "Critical Value (1%)            -3.924019\n",
      "Critical Value (5%)            -3.068498\n",
      "Critical Value (10%)           -2.673893\n",
      "dtype: float64\n"
     ]
    }
   ],
   "source": [
    "adf_test(Non_MAT_df['Non_MAT_df_diff1'])"
   ]
  },
  {
   "cell_type": "code",
   "execution_count": 33,
   "metadata": {},
   "outputs": [
    {
     "name": "stderr",
     "output_type": "stream",
     "text": [
      "/Users/shishi/anaconda3/lib/python3.8/site-packages/statsmodels/tsa/stattools.py:1661: FutureWarning: The behavior of using lags=None will change in the next release. Currently lags=None is the same as lags='legacy', and so a sample-size lag length is used. After the next release, the default will change to be the same as lags='auto' which uses an automatic lag length selection method. To silence this warning, either use 'auto' or 'legacy'\n",
      "  warn(msg, FutureWarning)\n",
      "/Users/shishi/anaconda3/lib/python3.8/site-packages/statsmodels/tsa/stattools.py:1687: InterpolationWarning: p-value is greater than the indicated p-value\n",
      "  warn(\"p-value is greater than the indicated p-value\", InterpolationWarning)\n"
     ]
    },
    {
     "data": {
      "text/plain": [
       "(0.3171721597125794,\n",
       " 0.1,\n",
       " 8,\n",
       " {'10%': 0.347, '5%': 0.463, '2.5%': 0.574, '1%': 0.739})"
      ]
     },
     "execution_count": 33,
     "metadata": {},
     "output_type": "execute_result"
    }
   ],
   "source": [
    "kpss(Non_MAT_df['Non_MAT_df_diff1'])"
   ]
  },
  {
   "cell_type": "code",
   "execution_count": 34,
   "metadata": {},
   "outputs": [
    {
     "name": "stdout",
     "output_type": "stream",
     "text": [
      "Results of Dickey-Fuller Test:\n",
      "Test Statistic                 -1.586348\n",
      "p-value                         0.490448\n",
      "#Lags Used                      0.000000\n",
      "Number of Observations Used    17.000000\n",
      "Critical Value (1%)            -3.889266\n",
      "Critical Value (5%)            -3.054358\n",
      "Critical Value (10%)           -2.666984\n",
      "dtype: float64\n"
     ]
    }
   ],
   "source": [
    "adf_test(Non_MAT_df['Non_MAT_df_diff2'])"
   ]
  },
  {
   "cell_type": "code",
   "execution_count": 35,
   "metadata": {},
   "outputs": [
    {
     "name": "stdout",
     "output_type": "stream",
     "text": [
      "Results of KPSS Test:\n",
      "Test Statistic           0.532127\n",
      "p-value                  0.034431\n",
      "Lags Used                2.000000\n",
      "Critical Value (10%)     0.347000\n",
      "Critical Value (5%)      0.463000\n",
      "Critical Value (2.5%)    0.574000\n",
      "Critical Value (1%)      0.739000\n",
      "dtype: float64\n"
     ]
    }
   ],
   "source": [
    "kpss_test(Non_MAT_df['Non_MAT_df_diff2'])"
   ]
  },
  {
   "cell_type": "code",
   "execution_count": 36,
   "metadata": {},
   "outputs": [
    {
     "name": "stdout",
     "output_type": "stream",
     "text": [
      "Results of Dickey-Fuller Test:\n",
      "Test Statistic                 -1.806127\n",
      "p-value                         0.377424\n",
      "#Lags Used                      7.000000\n",
      "Number of Observations Used    10.000000\n",
      "Critical Value (1%)            -4.331573\n",
      "Critical Value (5%)            -3.232950\n",
      "Critical Value (10%)           -2.748700\n",
      "dtype: float64\n"
     ]
    }
   ],
   "source": [
    "adf_test(MAT_df['MAT_df_diff1'])"
   ]
  },
  {
   "cell_type": "code",
   "execution_count": 37,
   "metadata": {},
   "outputs": [
    {
     "name": "stdout",
     "output_type": "stream",
     "text": [
      "Results of KPSS Test:\n",
      "Test Statistic           0.195335\n",
      "p-value                  0.100000\n",
      "Lags Used                0.000000\n",
      "Critical Value (10%)     0.347000\n",
      "Critical Value (5%)      0.463000\n",
      "Critical Value (2.5%)    0.574000\n",
      "Critical Value (1%)      0.739000\n",
      "dtype: float64\n"
     ]
    },
    {
     "name": "stderr",
     "output_type": "stream",
     "text": [
      "/Users/shishi/anaconda3/lib/python3.8/site-packages/statsmodels/tsa/stattools.py:1687: InterpolationWarning: p-value is greater than the indicated p-value\n",
      "  warn(\"p-value is greater than the indicated p-value\", InterpolationWarning)\n"
     ]
    }
   ],
   "source": [
    "kpss_test(MAT_df['MAT_df_diff1'])"
   ]
  },
  {
   "cell_type": "code",
   "execution_count": 38,
   "metadata": {},
   "outputs": [
    {
     "name": "stdout",
     "output_type": "stream",
     "text": [
      "Results of Dickey-Fuller Test:\n",
      "Test Statistic                -7.040230e+00\n",
      "p-value                        5.872643e-10\n",
      "#Lags Used                     7.000000e+00\n",
      "Number of Observations Used    1.000000e+01\n",
      "Critical Value (1%)           -4.331573e+00\n",
      "Critical Value (5%)           -3.232950e+00\n",
      "Critical Value (10%)          -2.748700e+00\n",
      "dtype: float64\n"
     ]
    }
   ],
   "source": [
    "adf_test(MAT_df['MAT_df_diff2'])"
   ]
  },
  {
   "cell_type": "code",
   "execution_count": 39,
   "metadata": {},
   "outputs": [
    {
     "name": "stdout",
     "output_type": "stream",
     "text": [
      "Results of KPSS Test:\n",
      "Test Statistic           0.543950\n",
      "p-value                  0.031768\n",
      "Lags Used                2.000000\n",
      "Critical Value (10%)     0.347000\n",
      "Critical Value (5%)      0.463000\n",
      "Critical Value (2.5%)    0.574000\n",
      "Critical Value (1%)      0.739000\n",
      "dtype: float64\n"
     ]
    }
   ],
   "source": [
    "kpss_test((MAT_df['MAT_df_diff2']))"
   ]
  },
  {
   "cell_type": "code",
   "execution_count": null,
   "metadata": {},
   "outputs": [],
   "source": []
  },
  {
   "cell_type": "markdown",
   "metadata": {},
   "source": [
    "Credit to [Jason Brownlee](https://machinelearningmastery.com/how-to-grid-search-sarima-model-hyperparameters-for-time-series-forecasting-in-python/) for the code below:"
   ]
  },
  {
   "cell_type": "code",
   "execution_count": 41,
   "metadata": {},
   "outputs": [
    {
     "name": "stdout",
     "output_type": "stream",
     "text": [
      "qtr_begin_dt  mat_x  opioid  enrollment  \n",
      "2015-07-01    0      1       1.262296e+06     4008.361185\n",
      "2015-10-01    0      1       1.269899e+06     3587.526256\n",
      "2016-01-01    0      1       1.279065e+06     6883.917671\n",
      "2016-04-01    0      1       1.310312e+06     6161.015056\n",
      "2016-07-01    0      1       1.308614e+06     7186.327038\n",
      "2016-10-01    0      1       1.316557e+06     6518.468665\n",
      "2017-01-01    0      1       1.329612e+06    11031.128156\n",
      "2017-04-01    0      1       1.338202e+06     9109.175446\n",
      "2017-07-01    0      1       1.345714e+06    10098.049780\n",
      "2017-10-01    0      1       1.349776e+06     9898.667650\n",
      "2018-01-01    0      1       1.355666e+06    10288.757209\n",
      "2018-04-01    0      1       1.332721e+06    10088.071294\n",
      "2018-07-01    0      1       1.317721e+06     9323.946778\n",
      "2018-10-01    0      1       1.296805e+06     9020.707045\n",
      "2019-01-01    0      1       1.293211e+06     8478.410522\n",
      "2019-04-01    0      1       1.289673e+06     8147.493512\n",
      "2019-07-01    0      1       1.345640e+06     7669.130567\n",
      "2019-10-01    0      1       1.325486e+06     4861.133109\n",
      "Name: units_per_1000, dtype: float64\n",
      " > Model[[(0, 0, 0), (0, 0, 0, 0), 'n']] 7043.385\n",
      " > Model[[(0, 0, 0), (0, 0, 0, 0), 'c']] 2048.353\n",
      " > Model[[(0, 0, 0), (0, 0, 0, 0), 't']] 7159.246\n",
      " > Model[[(0, 0, 0), (0, 0, 0, 0), 'ct']] 3779.709\n",
      " > Model[[(0, 0, 1), (0, 0, 0, 0), 'n']] 3553.022\n",
      " > Model[[(0, 0, 1), (0, 0, 0, 0), 'c']] 2283.151\n",
      " > Model[[(0, 0, 1), (0, 0, 0, 0), 't']] 4811.477\n",
      " > Model[[(0, 0, 1), (0, 0, 0, 0), 'ct']] 2845.800\n",
      " > Model[[(0, 0, 2), (0, 0, 0, 0), 'n']] 2273.878\n",
      " > Model[[(0, 0, 2), (0, 0, 0, 0), 'c']] 2402.315\n",
      " > Model[[(0, 0, 2), (0, 0, 0, 0), 't']] 3375.526\n",
      " > Model[[(0, 0, 2), (0, 0, 0, 0), 'ct']] 1761.728\n",
      " > Model[[(0, 1, 0), (0, 0, 0, 0), 'n']] 1655.615\n",
      " > Model[[(0, 1, 0), (0, 0, 0, 0), 'c']] 1873.370\n",
      " > Model[[(0, 1, 0), (0, 0, 0, 0), 't']] 1619.327\n",
      " > Model[[(0, 1, 0), (0, 0, 0, 0), 'ct']] 1139.468\n",
      " > Model[[(0, 1, 1), (0, 0, 0, 0), 'n']] 1783.669\n",
      " > Model[[(0, 1, 1), (0, 0, 0, 0), 'c']] 2057.971\n",
      " > Model[[(0, 1, 1), (0, 0, 0, 0), 't']] 1724.044\n",
      " > Model[[(0, 1, 1), (0, 0, 0, 0), 'ct']] 977.053\n",
      " > Model[[(0, 1, 2), (0, 0, 0, 0), 'n']] 1817.413\n",
      " > Model[[(0, 1, 2), (0, 0, 0, 0), 'c']] 1710.869\n",
      " > Model[[(0, 1, 2), (0, 0, 0, 0), 't']] 1467.626\n",
      " > Model[[(0, 1, 2), (0, 0, 0, 0), 'ct']] 1437.673\n",
      " > Model[[(1, 0, 0), (0, 0, 0, 0), 'n']] 1670.965\n",
      " > Model[[(1, 0, 0), (0, 0, 0, 0), 'c']] 1922.119\n",
      " > Model[[(1, 0, 0), (0, 0, 0, 0), 't']] 1412.907\n",
      " > Model[[(1, 0, 0), (0, 0, 0, 0), 'ct']] 2234.705\n",
      " > Model[[(1, 0, 1), (0, 0, 0, 0), 'n']] 1982.357\n",
      " > Model[[(1, 0, 1), (0, 0, 0, 0), 'c']] 2268.250\n",
      " > Model[[(1, 0, 1), (0, 0, 0, 0), 't']] 1533.918\n",
      " > Model[[(1, 0, 1), (0, 0, 0, 0), 'ct']] 1912.125\n",
      " > Model[[(1, 0, 2), (0, 0, 0, 0), 'n']] 1670.661\n",
      " > Model[[(1, 0, 2), (0, 0, 0, 0), 'c']] 2150.345\n",
      " > Model[[(1, 0, 2), (0, 0, 0, 0), 't']] 2162.073\n",
      " > Model[[(1, 0, 2), (0, 0, 0, 0), 'ct']] 2136.017\n",
      " > Model[[(1, 1, 0), (0, 0, 0, 0), 'n']] 1819.009\n",
      " > Model[[(1, 1, 0), (0, 0, 0, 0), 'c']] 2219.913\n",
      " > Model[[(1, 1, 0), (0, 0, 0, 0), 't']] 1827.699\n",
      " > Model[[(1, 1, 0), (0, 0, 0, 0), 'ct']] 1096.334\n",
      " > Model[[(1, 1, 1), (0, 0, 0, 0), 'n']] 1634.823\n",
      " > Model[[(1, 1, 1), (0, 0, 0, 0), 'c']] 1727.244\n",
      " > Model[[(1, 1, 1), (0, 0, 0, 0), 't']] 1492.490\n",
      " > Model[[(1, 1, 1), (0, 0, 0, 0), 'ct']] 820.543\n",
      " > Model[[(1, 1, 2), (0, 0, 0, 0), 'n']] 1687.871\n",
      " > Model[[(1, 1, 2), (0, 0, 0, 0), 'c']] 1761.118\n",
      " > Model[[(1, 1, 2), (0, 0, 0, 0), 't']] 1626.493\n",
      " > Model[[(1, 1, 2), (0, 0, 0, 0), 'ct']] 1535.539\n",
      " > Model[[(2, 0, 0), (0, 0, 0, 0), 'n']] 2001.632\n",
      " > Model[[(2, 0, 0), (0, 0, 0, 0), 'c']] 2333.369\n",
      " > Model[[(2, 0, 0), (0, 0, 0, 0), 't']] 1205.052\n",
      " > Model[[(2, 0, 0), (0, 0, 0, 0), 'ct']] 1372.827\n",
      " > Model[[(2, 0, 1), (0, 0, 0, 0), 'n']] 1556.049\n",
      " > Model[[(2, 0, 1), (0, 0, 0, 0), 'c']] 1837.301\n",
      " > Model[[(2, 0, 1), (0, 0, 0, 0), 't']] 2401.910\n",
      " > Model[[(2, 0, 1), (0, 0, 0, 0), 'ct']] 1086.756\n",
      " > Model[[(2, 0, 2), (0, 0, 0, 0), 'n']] 1761.193\n",
      " > Model[[(2, 0, 2), (0, 0, 0, 0), 'c']] 1973.372\n",
      " > Model[[(2, 0, 2), (0, 0, 0, 0), 't']] 1730.351\n",
      " > Model[[(2, 0, 2), (0, 0, 0, 0), 'ct']] 1934.210\n",
      " > Model[[(2, 1, 0), (0, 0, 0, 0), 'n']] 1695.216\n",
      " > Model[[(2, 1, 0), (0, 0, 0, 0), 'c']] 1799.823\n",
      " > Model[[(2, 1, 0), (0, 0, 0, 0), 't']] 1582.917\n",
      " > Model[[(2, 1, 0), (0, 0, 0, 0), 'ct']] 1129.148\n",
      " > Model[[(2, 1, 1), (0, 0, 0, 0), 'n']] 1770.827\n",
      " > Model[[(2, 1, 1), (0, 0, 0, 0), 'c']] 1656.764\n",
      " > Model[[(2, 1, 1), (0, 0, 0, 0), 't']] 1180.202\n",
      " > Model[[(2, 1, 1), (0, 0, 0, 0), 'ct']] 1112.838\n",
      " > Model[[(2, 1, 2), (0, 0, 0, 0), 'n']] 1661.002\n",
      " > Model[[(2, 1, 2), (0, 0, 0, 0), 'c']] 1206.442\n",
      " > Model[[(2, 1, 2), (0, 0, 0, 0), 't']] 1578.411\n",
      " > Model[[(2, 1, 2), (0, 0, 0, 0), 'ct']] 1483.183\n",
      "done\n",
      "[(1, 1, 1), (0, 0, 0, 0), 'ct'] 820.5425135409232\n",
      "[(0, 1, 1), (0, 0, 0, 0), 'ct'] 977.0534615634002\n",
      "[(2, 0, 1), (0, 0, 0, 0), 'ct'] 1086.755804516454\n"
     ]
    }
   ],
   "source": [
    "# grid search sarima hyperparameters\n",
    "from math import sqrt\n",
    "from multiprocessing import cpu_count\n",
    "from joblib import Parallel\n",
    "from joblib import delayed\n",
    "from warnings import catch_warnings\n",
    "from warnings import filterwarnings\n",
    "from statsmodels.tsa.statespace.sarimax import SARIMAX\n",
    "from sklearn.metrics import mean_squared_error\n",
    "\n",
    "# one-step sarima forecast\n",
    "def sarima_forecast(history, config):\n",
    "\torder, sorder, trend = config\n",
    "\t# define model\n",
    "\tmodel = SARIMAX(history, order=order, seasonal_order=sorder, trend=trend, enforce_stationarity=False, enforce_invertibility=False)\n",
    "\t# fit model\n",
    "\tmodel_fit = model.fit(disp=False)\n",
    "\t# make one step forecast\n",
    "\tyhat = model_fit.predict(len(history), len(history))\n",
    "\treturn yhat[0]\n",
    "\n",
    "# root mean squared error or rmse\n",
    "def measure_rmse(actual, predicted):\n",
    "\treturn sqrt(mean_squared_error(actual, predicted))\n",
    "\n",
    "# split a univariate dataset into train/test sets\n",
    "def train_test_split(data, n_test):\n",
    "\treturn data[:-n_test], data[-n_test:]\n",
    "\n",
    "# walk-forward validation for univariate data\n",
    "def walk_forward_validation(data, n_test, cfg):\n",
    "\tpredictions = list()\n",
    "\t# split dataset\n",
    "\ttrain, test = train_test_split(data, n_test)\n",
    "\t# seed history with training dataset\n",
    "\thistory = [x for x in train]\n",
    "\t# step over each time-step in the test set\n",
    "\tfor i in range(len(test)):\n",
    "\t\t# fit model and make forecast for history\n",
    "\t\tyhat = sarima_forecast(history, cfg)\n",
    "\t\t# store forecast in list of predictions\n",
    "\t\tpredictions.append(yhat)\n",
    "\t\t# add actual observation to history for the next loop\n",
    "\t\thistory.append(test[i])\n",
    "\t# estimate prediction error\n",
    "\terror = measure_rmse(test, predictions)\n",
    "\treturn error\n",
    "\n",
    "# score a model, return None on failure\n",
    "def score_model(data, n_test, cfg, debug=False):\n",
    "\tresult = None\n",
    "\t# convert config to a key\n",
    "\tkey = str(cfg)\n",
    "\t# show all warnings and fail on exception if debugging\n",
    "\tif debug:\n",
    "\t\tresult = walk_forward_validation(data, n_test, cfg)\n",
    "\telse:\n",
    "\t\t# one failure during model validation suggests an unstable config\n",
    "\t\ttry:\n",
    "\t\t\t# never show warnings when grid searching, too noisy\n",
    "\t\t\twith catch_warnings():\n",
    "\t\t\t\tfilterwarnings(\"ignore\")\n",
    "\t\t\t\tresult = walk_forward_validation(data, n_test, cfg)\n",
    "\t\texcept:\n",
    "\t\t\terror = None\n",
    "\t# check for an interesting result\n",
    "\tif result is not None:\n",
    "\t\tprint(' > Model[%s] %.3f' % (key, result))\n",
    "\treturn (key, result)\n",
    "\n",
    "# grid search configs\n",
    "def grid_search(data, cfg_list, n_test, parallel=False):\n",
    "\tscores = None\n",
    "\tif parallel:\n",
    "\t\t# execute configs in parallel\n",
    "\t\texecutor = Parallel(n_jobs=cpu_count(), backend='multiprocessing')\n",
    "\t\ttasks = (delayed(score_model)(data, n_test, cfg) for cfg in cfg_list)\n",
    "\t\tscores = executor(tasks)\n",
    "\telse:\n",
    "\t\tscores = [score_model(data, n_test, cfg) for cfg in cfg_list]\n",
    "\t# remove empty results\n",
    "\tscores = [r for r in scores if r[1] != None]\n",
    "\t# sort configs by error, asc\n",
    "\tscores.sort(key=lambda tup: tup[1])\n",
    "\treturn scores\n",
    "\n",
    "# create a set of sarima configs to try\n",
    "def sarima_configs(seasonal=[0]):\n",
    "\tmodels = list()\n",
    "\t# define config lists\n",
    "\tp_params = [0, 1, 2]\n",
    "\td_params = [0, 1]\n",
    "\tq_params = [0, 1, 2]\n",
    "\tt_params = ['n','c','t','ct']\n",
    "\tP_params = [0, 1, 2]\n",
    "\tD_params = [0, 1]\n",
    "\tQ_params = [0, 1, 2]\n",
    "\tm_params = seasonal\n",
    "\t# create config instances\n",
    "\tfor p in p_params:\n",
    "\t\tfor d in d_params:\n",
    "\t\t\tfor q in q_params:\n",
    "\t\t\t\tfor t in t_params:\n",
    "\t\t\t\t\tfor P in P_params:\n",
    "\t\t\t\t\t\tfor D in D_params:\n",
    "\t\t\t\t\t\t\tfor Q in Q_params:\n",
    "\t\t\t\t\t\t\t\tfor m in m_params:\n",
    "\t\t\t\t\t\t\t\t\tcfg = [(p,d,q), (P,D,Q,m), t]\n",
    "\t\t\t\t\t\t\t\t\tmodels.append(cfg)\n",
    "\treturn models\n",
    "\n",
    "if __name__ == '__main__':\n",
    "\t# define dataset\n",
    "\tdata = Non_MAT_df['units_per_1000']\n",
    "\tprint(data)\n",
    "\t# data split\n",
    "\tn_test = 3\n",
    "\t# model configs\n",
    "\tcfg_list = sarima_configs()\n",
    "\t# grid search\n",
    "\tscores = grid_search(data, cfg_list, n_test)\n",
    "\tprint('done')\n",
    "\t# list top 3 configs\n",
    "\tfor cfg, error in scores[:3]:\n",
    "\t\tprint(cfg, error)"
   ]
  },
  {
   "cell_type": "code",
   "execution_count": 42,
   "metadata": {},
   "outputs": [
    {
     "name": "stdout",
     "output_type": "stream",
     "text": [
      "qtr_begin_dt  mat_x  opioid  enrollment  \n",
      "2015-07-01    0      1       1.262296e+06    -846.819937\n",
      "2015-10-01    0      1       1.269899e+06    -420.834929\n",
      "2016-01-01    0      1       1.279065e+06    3296.391415\n",
      "2016-04-01    0      1       1.310312e+06    -722.902615\n",
      "2016-07-01    0      1       1.308614e+06    1025.311982\n",
      "2016-10-01    0      1       1.316557e+06    -667.858373\n",
      "2017-01-01    0      1       1.329612e+06    4512.659491\n",
      "2017-04-01    0      1       1.338202e+06   -1921.952710\n",
      "2017-07-01    0      1       1.345714e+06     988.874334\n",
      "2017-10-01    0      1       1.349776e+06    -199.382131\n",
      "2018-01-01    0      1       1.355666e+06     390.089559\n",
      "2018-04-01    0      1       1.332721e+06    -200.685915\n",
      "2018-07-01    0      1       1.317721e+06    -764.124516\n",
      "2018-10-01    0      1       1.296805e+06    -303.239732\n",
      "2019-01-01    0      1       1.293211e+06    -542.296523\n",
      "2019-04-01    0      1       1.289673e+06    -330.917010\n",
      "2019-07-01    0      1       1.345640e+06    -478.362945\n",
      "2019-10-01    0      1       1.325486e+06   -2807.997459\n",
      "Name: Non_MAT_df_diff1, dtype: float64\n",
      " > Model[[(0, 0, 0), (0, 0, 0, 0), 'n']] 1655.615\n",
      " > Model[[(0, 0, 0), (0, 0, 0, 0), 'c']] 1840.655\n",
      " > Model[[(0, 0, 0), (0, 0, 0, 0), 't']] 1616.860\n",
      " > Model[[(0, 0, 0), (0, 0, 0, 0), 'ct']] 1217.428\n",
      " > Model[[(0, 0, 1), (0, 0, 0, 0), 'n']] 1800.032\n",
      " > Model[[(0, 0, 1), (0, 0, 0, 0), 'c']] 2214.709\n",
      " > Model[[(0, 0, 1), (0, 0, 0, 0), 't']] 1798.514\n",
      " > Model[[(0, 0, 1), (0, 0, 0, 0), 'ct']] 1033.705\n",
      " > Model[[(0, 0, 2), (0, 0, 0, 0), 'n']] 1640.494\n",
      " > Model[[(0, 0, 2), (0, 0, 0, 0), 'c']] 1823.106\n",
      " > Model[[(0, 0, 2), (0, 0, 0, 0), 't']] 1596.601\n",
      " > Model[[(0, 0, 2), (0, 0, 0, 0), 'ct']] 1423.852\n",
      " > Model[[(0, 1, 0), (0, 0, 0, 0), 'n']] 1353.221\n",
      " > Model[[(0, 1, 0), (0, 0, 0, 0), 'c']] 1356.283\n",
      " > Model[[(0, 1, 0), (0, 0, 0, 0), 't']] 1292.105\n",
      " > Model[[(0, 1, 0), (0, 0, 0, 0), 'ct']] 1220.623\n",
      " > Model[[(0, 1, 1), (0, 0, 0, 0), 'n']] 1720.292\n",
      " > Model[[(0, 1, 1), (0, 0, 0, 0), 'c']] 1360.260\n",
      " > Model[[(0, 1, 1), (0, 0, 0, 0), 't']] 1240.575\n",
      " > Model[[(0, 1, 1), (0, 0, 0, 0), 'ct']] 1224.889\n",
      " > Model[[(0, 1, 2), (0, 0, 0, 0), 'n']] 1318.611\n",
      " > Model[[(0, 1, 2), (0, 0, 0, 0), 'c']] 754.050\n",
      " > Model[[(0, 1, 2), (0, 0, 0, 0), 't']] 1169.512\n",
      " > Model[[(0, 1, 2), (0, 0, 0, 0), 'ct']] 1943.249\n",
      " > Model[[(1, 0, 0), (0, 0, 0, 0), 'n']] 1812.766\n",
      " > Model[[(1, 0, 0), (0, 0, 0, 0), 'c']] 2122.710\n",
      " > Model[[(1, 0, 0), (0, 0, 0, 0), 't']] 1811.496\n",
      " > Model[[(1, 0, 0), (0, 0, 0, 0), 'ct']] 1232.099\n",
      " > Model[[(1, 0, 1), (0, 0, 0, 0), 'n']] 1743.798\n",
      " > Model[[(1, 0, 1), (0, 0, 0, 0), 'c']] 1904.631\n",
      " > Model[[(1, 0, 1), (0, 0, 0, 0), 't']] 1750.605\n",
      " > Model[[(1, 0, 1), (0, 0, 0, 0), 'ct']] 894.213\n",
      " > Model[[(1, 0, 2), (0, 0, 0, 0), 'n']] 1690.667\n",
      " > Model[[(1, 0, 2), (0, 0, 0, 0), 'c']] 1755.936\n",
      " > Model[[(1, 0, 2), (0, 0, 0, 0), 't']] 1644.679\n",
      " > Model[[(1, 0, 2), (0, 0, 0, 0), 'ct']] 1297.893\n",
      " > Model[[(1, 1, 0), (0, 0, 0, 0), 'n']] 1410.567\n",
      " > Model[[(1, 1, 0), (0, 0, 0, 0), 'c']] 1423.521\n",
      " > Model[[(1, 1, 0), (0, 0, 0, 0), 't']] 1297.958\n",
      " > Model[[(1, 1, 0), (0, 0, 0, 0), 'ct']] 1238.847\n",
      " > Model[[(1, 1, 1), (0, 0, 0, 0), 'n']] 1474.327\n",
      " > Model[[(1, 1, 1), (0, 0, 0, 0), 'c']] 1326.263\n",
      " > Model[[(1, 1, 1), (0, 0, 0, 0), 't']] 1110.202\n",
      " > Model[[(1, 1, 1), (0, 0, 0, 0), 'ct']] 1212.496\n",
      " > Model[[(1, 1, 2), (0, 0, 0, 0), 'n']] 1326.421\n",
      " > Model[[(1, 1, 2), (0, 0, 0, 0), 'c']] 990.440\n",
      " > Model[[(1, 1, 2), (0, 0, 0, 0), 't']] 1240.195\n",
      " > Model[[(1, 1, 2), (0, 0, 0, 0), 'ct']] 1837.642\n",
      " > Model[[(2, 0, 0), (0, 0, 0, 0), 'n']] 1755.449\n",
      " > Model[[(2, 0, 0), (0, 0, 0, 0), 'c']] 2170.873\n",
      " > Model[[(2, 0, 0), (0, 0, 0, 0), 't']] 1733.749\n",
      " > Model[[(2, 0, 0), (0, 0, 0, 0), 'ct']] 1068.213\n",
      " > Model[[(2, 0, 1), (0, 0, 0, 0), 'n']] 1707.548\n",
      " > Model[[(2, 0, 1), (0, 0, 0, 0), 'c']] 1792.623\n",
      " > Model[[(2, 0, 1), (0, 0, 0, 0), 't']] 1622.989\n",
      " > Model[[(2, 0, 1), (0, 0, 0, 0), 'ct']] 907.918\n",
      " > Model[[(2, 0, 2), (0, 0, 0, 0), 'n']] 1673.432\n",
      " > Model[[(2, 0, 2), (0, 0, 0, 0), 'c']] 988.537\n",
      " > Model[[(2, 0, 2), (0, 0, 0, 0), 't']] 1260.188\n",
      " > Model[[(2, 0, 2), (0, 0, 0, 0), 'ct']] 1325.003\n",
      " > Model[[(2, 1, 0), (0, 0, 0, 0), 'n']] 1397.124\n",
      " > Model[[(2, 1, 0), (0, 0, 0, 0), 'c']] 1279.546\n",
      " > Model[[(2, 1, 0), (0, 0, 0, 0), 't']] 1235.376\n",
      " > Model[[(2, 1, 0), (0, 0, 0, 0), 'ct']] 1337.924\n",
      " > Model[[(2, 1, 1), (0, 0, 0, 0), 'n']] 1743.398\n",
      " > Model[[(2, 1, 1), (0, 0, 0, 0), 'c']] 1312.236\n",
      " > Model[[(2, 1, 1), (0, 0, 0, 0), 't']] 1127.174\n",
      " > Model[[(2, 1, 1), (0, 0, 0, 0), 'ct']] 1289.414\n",
      " > Model[[(2, 1, 2), (0, 0, 0, 0), 'n']] 1530.257\n",
      " > Model[[(2, 1, 2), (0, 0, 0, 0), 'c']] 1249.326\n",
      " > Model[[(2, 1, 2), (0, 0, 0, 0), 't']] 1423.094\n",
      " > Model[[(2, 1, 2), (0, 0, 0, 0), 'ct']] 1599.795\n",
      "done\n",
      "[(0, 1, 2), (0, 0, 0, 0), 'c'] 754.0504596596611\n",
      "[(1, 0, 1), (0, 0, 0, 0), 'ct'] 894.2134611312661\n",
      "[(2, 0, 1), (0, 0, 0, 0), 'ct'] 907.9181733856575\n"
     ]
    }
   ],
   "source": [
    "if __name__ == '__main__':\n",
    "\t# define dataset\n",
    "\tdata = Non_MAT_df['Non_MAT_df_diff1']\n",
    "\tprint(data)\n",
    "\t# data split\n",
    "\tn_test = 3\n",
    "\t# model configs\n",
    "\tcfg_list = sarima_configs()\n",
    "\t# grid search\n",
    "\tscores = grid_search(data, cfg_list, n_test)\n",
    "\tprint('done')\n",
    "\t# list top 3 configs\n",
    "\tfor cfg, error in scores[:3]:\n",
    "\t\tprint(cfg, error)"
   ]
  },
  {
   "cell_type": "code",
   "execution_count": 43,
   "metadata": {},
   "outputs": [
    {
     "name": "stdout",
     "output_type": "stream",
     "text": [
      "qtr_begin_dt  mat_x  opioid  enrollment  \n",
      "2015-07-01    0      1       1.262296e+06    -7278.763406\n",
      "2015-10-01    0      1       1.269899e+06    -5276.016050\n",
      "2016-01-01    0      1       1.279065e+06     -711.969770\n",
      "2016-04-01    0      1       1.310312e+06    -4310.428871\n",
      "2016-07-01    0      1       1.308614e+06    -5858.605689\n",
      "2016-10-01    0      1       1.316557e+06    -6828.873429\n",
      "2017-01-01    0      1       1.329612e+06    -2673.667546\n",
      "2017-04-01    0      1       1.338202e+06    -8440.421375\n",
      "2017-07-01    0      1       1.345714e+06   -10042.253822\n",
      "2017-10-01    0      1       1.349776e+06    -9308.557576\n",
      "2018-01-01    0      1       1.355666e+06    -9707.960221\n",
      "2018-04-01    0      1       1.332721e+06   -10099.353565\n",
      "2018-07-01    0      1       1.317721e+06   -11052.881725\n",
      "2018-10-01    0      1       1.296805e+06   -10391.311026\n",
      "2019-01-01    0      1       1.293211e+06    -9866.243301\n",
      "2019-04-01    0      1       1.289673e+06    -9351.624056\n",
      "2019-07-01    0      1       1.345640e+06    -8956.773467\n",
      "2019-10-01    0      1       1.325486e+06   -10955.490970\n",
      "Name: Non_MAT_df_diff2, dtype: float64\n",
      " > Model[[(0, 0, 0), (0, 0, 0, 0), 'n']] 9792.845\n",
      " > Model[[(0, 0, 0), (0, 0, 0, 0), 'c']] 2324.367\n",
      " > Model[[(0, 0, 0), (0, 0, 0, 0), 't']] 4120.119\n",
      " > Model[[(0, 0, 0), (0, 0, 0, 0), 'ct']] 2564.356\n",
      " > Model[[(0, 0, 1), (0, 0, 0, 0), 'n']] 6073.290\n",
      " > Model[[(0, 0, 1), (0, 0, 0, 0), 'c']] 1505.440\n",
      " > Model[[(0, 0, 1), (0, 0, 0, 0), 't']] 3399.460\n",
      " > Model[[(0, 0, 1), (0, 0, 0, 0), 'ct']] 1733.475\n",
      " > Model[[(0, 0, 2), (0, 0, 0, 0), 'n']] 4206.624\n",
      " > Model[[(0, 0, 2), (0, 0, 0, 0), 'c']] 1164.436\n",
      " > Model[[(0, 0, 2), (0, 0, 0, 0), 't']] 2254.107\n",
      " > Model[[(0, 0, 2), (0, 0, 0, 0), 'ct']] 1460.389\n",
      " > Model[[(0, 1, 0), (0, 0, 0, 0), 'n']] 1213.207\n",
      " > Model[[(0, 1, 0), (0, 0, 0, 0), 'c']] 1196.370\n",
      " > Model[[(0, 1, 0), (0, 0, 0, 0), 't']] 1262.341\n",
      " > Model[[(0, 1, 0), (0, 0, 0, 0), 'ct']] 1312.502\n",
      " > Model[[(0, 1, 1), (0, 0, 0, 0), 'n']] 1138.965\n",
      " > Model[[(0, 1, 1), (0, 0, 0, 0), 'c']] 1969.574\n",
      " > Model[[(0, 1, 1), (0, 0, 0, 0), 't']] 2772.639\n",
      " > Model[[(0, 1, 1), (0, 0, 0, 0), 'ct']] 1474.225\n",
      " > Model[[(0, 1, 2), (0, 0, 0, 0), 'n']] 1109.913\n",
      " > Model[[(0, 1, 2), (0, 0, 0, 0), 'c']] 2082.756\n",
      " > Model[[(0, 1, 2), (0, 0, 0, 0), 't']] 2199.515\n",
      " > Model[[(0, 1, 2), (0, 0, 0, 0), 'ct']] 2807.635\n",
      " > Model[[(1, 0, 0), (0, 0, 0, 0), 'n']] 1331.837\n",
      " > Model[[(1, 0, 0), (0, 0, 0, 0), 'c']] 1371.343\n",
      " > Model[[(1, 0, 0), (0, 0, 0, 0), 't']] 2664.420\n",
      " > Model[[(1, 0, 0), (0, 0, 0, 0), 'ct']] 2399.832\n",
      " > Model[[(1, 0, 1), (0, 0, 0, 0), 'n']] 1637.538\n",
      " > Model[[(1, 0, 1), (0, 0, 0, 0), 'c']] 1307.522\n",
      " > Model[[(1, 0, 1), (0, 0, 0, 0), 't']] 4045.349\n",
      " > Model[[(1, 0, 1), (0, 0, 0, 0), 'ct']] 1963.224\n",
      " > Model[[(1, 0, 2), (0, 0, 0, 0), 'n']] 1821.229\n",
      " > Model[[(1, 0, 2), (0, 0, 0, 0), 'c']] 1141.022\n",
      " > Model[[(1, 0, 2), (0, 0, 0, 0), 't']] 2983.055\n",
      " > Model[[(1, 0, 2), (0, 0, 0, 0), 'ct']] 1868.805\n",
      " > Model[[(1, 1, 0), (0, 0, 0, 0), 'n']] 1200.182\n",
      " > Model[[(1, 1, 0), (0, 0, 0, 0), 'c']] 1220.921\n",
      " > Model[[(1, 1, 0), (0, 0, 0, 0), 't']] 1333.546\n",
      " > Model[[(1, 1, 0), (0, 0, 0, 0), 'ct']] 1364.317\n",
      " > Model[[(1, 1, 1), (0, 0, 0, 0), 'n']] 1179.708\n",
      " > Model[[(1, 1, 1), (0, 0, 0, 0), 'c']] 1646.583\n",
      " > Model[[(1, 1, 1), (0, 0, 0, 0), 't']] 2017.003\n",
      " > Model[[(1, 1, 1), (0, 0, 0, 0), 'ct']] 1704.034\n",
      " > Model[[(1, 1, 2), (0, 0, 0, 0), 'n']] 1150.224\n",
      " > Model[[(1, 1, 2), (0, 0, 0, 0), 'c']] 1944.705\n",
      " > Model[[(1, 1, 2), (0, 0, 0, 0), 't']] 1728.379\n",
      " > Model[[(1, 1, 2), (0, 0, 0, 0), 'ct']] 1959.227\n",
      " > Model[[(2, 0, 0), (0, 0, 0, 0), 'n']] 1243.038\n",
      " > Model[[(2, 0, 0), (0, 0, 0, 0), 'c']] 1263.460\n",
      " > Model[[(2, 0, 0), (0, 0, 0, 0), 't']] 3752.014\n",
      " > Model[[(2, 0, 0), (0, 0, 0, 0), 'ct']] 3534.127\n",
      " > Model[[(2, 0, 1), (0, 0, 0, 0), 'n']] 2114.372\n",
      " > Model[[(2, 0, 1), (0, 0, 0, 0), 'c']] 1277.716\n",
      " > Model[[(2, 0, 1), (0, 0, 0, 0), 't']] 3875.901\n",
      " > Model[[(2, 0, 1), (0, 0, 0, 0), 'ct']] 2336.588\n",
      " > Model[[(2, 0, 2), (0, 0, 0, 0), 'n']] 1920.537\n",
      " > Model[[(2, 0, 2), (0, 0, 0, 0), 'c']] 1027.577\n",
      " > Model[[(2, 0, 2), (0, 0, 0, 0), 't']] 2633.421\n",
      " > Model[[(2, 0, 2), (0, 0, 0, 0), 'ct']] 1457.774\n",
      " > Model[[(2, 1, 0), (0, 0, 0, 0), 'n']] 1196.982\n",
      " > Model[[(2, 1, 0), (0, 0, 0, 0), 'c']] 1636.520\n",
      " > Model[[(2, 1, 0), (0, 0, 0, 0), 't']] 1827.786\n",
      " > Model[[(2, 1, 0), (0, 0, 0, 0), 'ct']] 1486.409\n",
      " > Model[[(2, 1, 1), (0, 0, 0, 0), 'n']] 1144.698\n",
      " > Model[[(2, 1, 1), (0, 0, 0, 0), 'c']] 1657.833\n",
      " > Model[[(2, 1, 1), (0, 0, 0, 0), 't']] 2212.164\n",
      " > Model[[(2, 1, 1), (0, 0, 0, 0), 'ct']] 1620.056\n",
      " > Model[[(2, 1, 2), (0, 0, 0, 0), 'n']] 2014.523\n",
      " > Model[[(2, 1, 2), (0, 0, 0, 0), 'c']] 1767.942\n",
      " > Model[[(2, 1, 2), (0, 0, 0, 0), 't']] 2267.126\n",
      " > Model[[(2, 1, 2), (0, 0, 0, 0), 'ct']] 1542.772\n",
      "done\n",
      "[(2, 0, 2), (0, 0, 0, 0), 'c'] 1027.5773447237577\n",
      "[(0, 1, 2), (0, 0, 0, 0), 'n'] 1109.9127570823146\n",
      "[(0, 1, 1), (0, 0, 0, 0), 'n'] 1138.9646214431402\n"
     ]
    }
   ],
   "source": [
    "if __name__ == '__main__':\n",
    "\t# define dataset\n",
    "\tdata = Non_MAT_df['Non_MAT_df_diff2']\n",
    "\tprint(data)\n",
    "\t# data split\n",
    "\tn_test = 3\n",
    "\t# model configs\n",
    "\tcfg_list = sarima_configs()\n",
    "\t# grid search\n",
    "\tscores = grid_search(data, cfg_list, n_test)\n",
    "\tprint('done')\n",
    "\t# list top 3 configs\n",
    "\tfor cfg, error in scores[:3]:\n",
    "\t\tprint(cfg, error)"
   ]
  },
  {
   "cell_type": "code",
   "execution_count": 44,
   "metadata": {},
   "outputs": [
    {
     "name": "stdout",
     "output_type": "stream",
     "text": [
      "qtr_begin_dt  mat_x  opioid  enrollment  \n",
      "2015-07-01    1      1       1.262296e+06     816.843672\n",
      "2015-10-01    1      1       1.269899e+06     774.852488\n",
      "2016-01-01    1      1       1.279065e+06     966.010858\n",
      "2016-04-01    1      1       1.310312e+06     611.826420\n",
      "2016-07-01    1      1       1.308614e+06     625.773429\n",
      "2016-10-01    1      1       1.316557e+06    1409.948813\n",
      "2017-01-01    1      1       1.329612e+06    1647.204185\n",
      "2017-04-01    1      1       1.338202e+06    1931.092892\n",
      "2017-07-01    1      1       1.345714e+06    1996.796845\n",
      "2017-10-01    1      1       1.349776e+06    2092.344357\n",
      "2018-01-01    1      1       1.355666e+06    2172.775964\n",
      "2018-04-01    1      1       1.332721e+06    2308.933205\n",
      "2018-07-01    1      1       1.317721e+06    2427.079489\n",
      "2018-10-01    1      1       1.296805e+06    2563.187773\n",
      "2019-01-01    1      1       1.293211e+06    2571.887511\n",
      "2019-04-01    1      1       1.289673e+06    2793.459854\n",
      "2019-07-01    1      1       1.345640e+06    2784.133861\n",
      "2019-10-01    1      1       1.325486e+06    1871.863887\n",
      "Name: units_per_1000, dtype: float64\n",
      " > Model[[(0, 0, 0), (0, 0, 0, 0), 'n']] 2520.496\n",
      " > Model[[(0, 0, 0), (0, 0, 0, 0), 'c']] 839.241\n",
      " > Model[[(0, 0, 0), (0, 0, 0, 0), 't']] 1003.574\n",
      " > Model[[(0, 0, 0), (0, 0, 0, 0), 'ct']] 764.713\n",
      " > Model[[(0, 0, 1), (0, 0, 0, 0), 'n']] 1273.766\n",
      " > Model[[(0, 0, 1), (0, 0, 0, 0), 'c']] 492.238\n",
      " > Model[[(0, 0, 1), (0, 0, 0, 0), 't']] 779.820\n",
      " > Model[[(0, 0, 1), (0, 0, 0, 0), 'ct']] 677.362\n",
      " > Model[[(0, 0, 2), (0, 0, 0, 0), 'n']] 691.464\n",
      " > Model[[(0, 0, 2), (0, 0, 0, 0), 'c']] 465.922\n",
      " > Model[[(0, 0, 2), (0, 0, 0, 0), 't']] 822.038\n",
      " > Model[[(0, 0, 2), (0, 0, 0, 0), 'ct']] 576.635\n",
      " > Model[[(0, 1, 0), (0, 0, 0, 0), 'n']] 542.039\n",
      " > Model[[(0, 1, 0), (0, 0, 0, 0), 'c']] 612.216\n",
      " > Model[[(0, 1, 0), (0, 0, 0, 0), 't']] 651.188\n",
      " > Model[[(0, 1, 0), (0, 0, 0, 0), 'ct']] 593.858\n",
      " > Model[[(0, 1, 1), (0, 0, 0, 0), 'n']] 531.734\n",
      " > Model[[(0, 1, 1), (0, 0, 0, 0), 'c']] 609.539\n",
      " > Model[[(0, 1, 1), (0, 0, 0, 0), 't']] 634.738\n",
      " > Model[[(0, 1, 1), (0, 0, 0, 0), 'ct']] 596.970\n",
      " > Model[[(0, 1, 2), (0, 0, 0, 0), 'n']] 539.188\n",
      " > Model[[(0, 1, 2), (0, 0, 0, 0), 'c']] 676.837\n",
      " > Model[[(0, 1, 2), (0, 0, 0, 0), 't']] 638.501\n",
      " > Model[[(0, 1, 2), (0, 0, 0, 0), 'ct']] 557.254\n",
      " > Model[[(1, 0, 0), (0, 0, 0, 0), 'n']] 622.886\n",
      " > Model[[(1, 0, 0), (0, 0, 0, 0), 'c']] 580.167\n",
      " > Model[[(1, 0, 0), (0, 0, 0, 0), 't']] 700.989\n",
      " > Model[[(1, 0, 0), (0, 0, 0, 0), 'ct']] 688.229\n",
      " > Model[[(1, 0, 1), (0, 0, 0, 0), 'n']] 614.452\n",
      " > Model[[(1, 0, 1), (0, 0, 0, 0), 'c']] 569.000\n",
      " > Model[[(1, 0, 1), (0, 0, 0, 0), 't']] 701.230\n",
      " > Model[[(1, 0, 1), (0, 0, 0, 0), 'ct']] 653.509\n",
      " > Model[[(1, 0, 2), (0, 0, 0, 0), 'n']] 599.150\n",
      " > Model[[(1, 0, 2), (0, 0, 0, 0), 'c']] 532.514\n",
      " > Model[[(1, 0, 2), (0, 0, 0, 0), 't']] 606.254\n",
      " > Model[[(1, 0, 2), (0, 0, 0, 0), 'ct']] 528.860\n",
      " > Model[[(1, 1, 0), (0, 0, 0, 0), 'n']] 541.820\n",
      " > Model[[(1, 1, 0), (0, 0, 0, 0), 'c']] 613.093\n",
      " > Model[[(1, 1, 0), (0, 0, 0, 0), 't']] 644.150\n",
      " > Model[[(1, 1, 0), (0, 0, 0, 0), 'ct']] 594.245\n",
      " > Model[[(1, 1, 1), (0, 0, 0, 0), 'n']] 590.968\n",
      " > Model[[(1, 1, 1), (0, 0, 0, 0), 'c']] 598.680\n",
      " > Model[[(1, 1, 1), (0, 0, 0, 0), 't']] 625.452\n",
      " > Model[[(1, 1, 1), (0, 0, 0, 0), 'ct']] 577.713\n",
      " > Model[[(1, 1, 2), (0, 0, 0, 0), 'n']] 549.245\n",
      " > Model[[(1, 1, 2), (0, 0, 0, 0), 'c']] 668.832\n",
      " > Model[[(1, 1, 2), (0, 0, 0, 0), 't']] 641.636\n",
      " > Model[[(1, 1, 2), (0, 0, 0, 0), 'ct']] 516.446\n",
      " > Model[[(2, 0, 0), (0, 0, 0, 0), 'n']] 619.743\n",
      " > Model[[(2, 0, 0), (0, 0, 0, 0), 'c']] 570.036\n",
      " > Model[[(2, 0, 0), (0, 0, 0, 0), 't']] 716.204\n",
      " > Model[[(2, 0, 0), (0, 0, 0, 0), 'ct']] 682.765\n",
      " > Model[[(2, 0, 1), (0, 0, 0, 0), 'n']] 606.092\n",
      " > Model[[(2, 0, 1), (0, 0, 0, 0), 'c']] 571.028\n",
      " > Model[[(2, 0, 1), (0, 0, 0, 0), 't']] 686.421\n",
      " > Model[[(2, 0, 1), (0, 0, 0, 0), 'ct']] 732.569\n",
      " > Model[[(2, 0, 2), (0, 0, 0, 0), 'n']] 609.466\n",
      " > Model[[(2, 0, 2), (0, 0, 0, 0), 'c']] 527.187\n",
      " > Model[[(2, 0, 2), (0, 0, 0, 0), 't']] 725.976\n",
      " > Model[[(2, 0, 2), (0, 0, 0, 0), 'ct']] 512.263\n",
      " > Model[[(2, 1, 0), (0, 0, 0, 0), 'n']] 544.529\n",
      " > Model[[(2, 1, 0), (0, 0, 0, 0), 'c']] 601.893\n",
      " > Model[[(2, 1, 0), (0, 0, 0, 0), 't']] 641.940\n",
      " > Model[[(2, 1, 0), (0, 0, 0, 0), 'ct']] 593.118\n",
      " > Model[[(2, 1, 1), (0, 0, 0, 0), 'n']] 586.212\n",
      " > Model[[(2, 1, 1), (0, 0, 0, 0), 'c']] 593.435\n",
      " > Model[[(2, 1, 1), (0, 0, 0, 0), 't']] 656.948\n",
      " > Model[[(2, 1, 1), (0, 0, 0, 0), 'ct']] 588.636\n",
      " > Model[[(2, 1, 2), (0, 0, 0, 0), 'n']] 554.014\n",
      " > Model[[(2, 1, 2), (0, 0, 0, 0), 'c']] 666.109\n",
      " > Model[[(2, 1, 2), (0, 0, 0, 0), 't']] 641.692\n",
      " > Model[[(2, 1, 2), (0, 0, 0, 0), 'ct']] 539.209\n",
      "done\n",
      "[(0, 0, 2), (0, 0, 0, 0), 'c'] 465.9215384778124\n",
      "[(0, 0, 1), (0, 0, 0, 0), 'c'] 492.2376059177581\n",
      "[(2, 0, 2), (0, 0, 0, 0), 'ct'] 512.2630332859582\n"
     ]
    }
   ],
   "source": [
    "if __name__ == '__main__':\n",
    "\t# define dataset\n",
    "\tdata = MAT_df['units_per_1000']\n",
    "\tprint(data)\n",
    "\t# data split\n",
    "\tn_test = 3\n",
    "\t# model configs\n",
    "\tcfg_list = sarima_configs()\n",
    "\t# grid search\n",
    "\tscores = grid_search(data, cfg_list, n_test)\n",
    "\tprint('done')\n",
    "\t# list top 3 configs\n",
    "\tfor cfg, error in scores[:3]:\n",
    "\t\tprint(cfg, error)"
   ]
  },
  {
   "cell_type": "code",
   "execution_count": 45,
   "metadata": {},
   "outputs": [
    {
     "name": "stdout",
     "output_type": "stream",
     "text": [
      "qtr_begin_dt  mat_x  opioid  enrollment  \n",
      "2015-07-01    1      1       1.262296e+06   -357.805561\n",
      "2015-10-01    1      1       1.269899e+06    -41.991184\n",
      "2016-01-01    1      1       1.279065e+06    191.158370\n",
      "2016-04-01    1      1       1.310312e+06   -354.184438\n",
      "2016-07-01    1      1       1.308614e+06     13.947009\n",
      "2016-10-01    1      1       1.316557e+06    784.175384\n",
      "2017-01-01    1      1       1.329612e+06    237.255372\n",
      "2017-04-01    1      1       1.338202e+06    283.888707\n",
      "2017-07-01    1      1       1.345714e+06     65.703954\n",
      "2017-10-01    1      1       1.349776e+06     95.547512\n",
      "2018-01-01    1      1       1.355666e+06     80.431607\n",
      "2018-04-01    1      1       1.332721e+06    136.157241\n",
      "2018-07-01    1      1       1.317721e+06    118.146284\n",
      "2018-10-01    1      1       1.296805e+06    136.108284\n",
      "2019-01-01    1      1       1.293211e+06      8.699738\n",
      "2019-04-01    1      1       1.289673e+06    221.572343\n",
      "2019-07-01    1      1       1.345640e+06     -9.325993\n",
      "2019-10-01    1      1       1.325486e+06   -912.269974\n",
      "Name: MAT_df_diff1, dtype: float64\n",
      " > Model[[(0, 0, 0), (0, 0, 0, 0), 'n']] 542.039\n",
      " > Model[[(0, 0, 0), (0, 0, 0, 0), 'c']] 605.724\n",
      " > Model[[(0, 0, 0), (0, 0, 0, 0), 't']] 650.716\n",
      " > Model[[(0, 0, 0), (0, 0, 0, 0), 'ct']] 609.429\n",
      " > Model[[(0, 0, 1), (0, 0, 0, 0), 'n']] 532.348\n",
      " > Model[[(0, 0, 1), (0, 0, 0, 0), 'c']] 612.216\n",
      " > Model[[(0, 0, 1), (0, 0, 0, 0), 't']] 638.425\n",
      " > Model[[(0, 0, 1), (0, 0, 0, 0), 'ct']] 593.726\n",
      " > Model[[(0, 0, 2), (0, 0, 0, 0), 'n']] 531.924\n",
      " > Model[[(0, 0, 2), (0, 0, 0, 0), 'c']] 664.071\n",
      " > Model[[(0, 0, 2), (0, 0, 0, 0), 't']] 627.127\n",
      " > Model[[(0, 0, 2), (0, 0, 0, 0), 'ct']] 542.388\n",
      " > Model[[(0, 1, 0), (0, 0, 0, 0), 'n']] 551.947\n",
      " > Model[[(0, 1, 0), (0, 0, 0, 0), 'c']] 555.359\n",
      " > Model[[(0, 1, 0), (0, 0, 0, 0), 't']] 545.361\n",
      " > Model[[(0, 1, 0), (0, 0, 0, 0), 'ct']] 527.645\n",
      " > Model[[(0, 1, 1), (0, 0, 0, 0), 'n']] 604.800\n",
      " > Model[[(0, 1, 1), (0, 0, 0, 0), 'c']] 609.549\n",
      " > Model[[(0, 1, 1), (0, 0, 0, 0), 't']] 591.006\n",
      " > Model[[(0, 1, 1), (0, 0, 0, 0), 'ct']] 527.870\n",
      " > Model[[(0, 1, 2), (0, 0, 0, 0), 'n']] 589.167\n",
      " > Model[[(0, 1, 2), (0, 0, 0, 0), 'c']] 606.476\n",
      " > Model[[(0, 1, 2), (0, 0, 0, 0), 't']] 579.253\n",
      " > Model[[(0, 1, 2), (0, 0, 0, 0), 'ct']] 517.811\n",
      " > Model[[(1, 0, 0), (0, 0, 0, 0), 'n']] 541.762\n",
      " > Model[[(1, 0, 0), (0, 0, 0, 0), 'c']] 602.475\n",
      " > Model[[(1, 0, 0), (0, 0, 0, 0), 't']] 642.438\n",
      " > Model[[(1, 0, 0), (0, 0, 0, 0), 'ct']] 600.342\n",
      " > Model[[(1, 0, 1), (0, 0, 0, 0), 'n']] 524.812\n",
      " > Model[[(1, 0, 1), (0, 0, 0, 0), 'c']] 600.407\n",
      " > Model[[(1, 0, 1), (0, 0, 0, 0), 't']] 630.006\n",
      " > Model[[(1, 0, 1), (0, 0, 0, 0), 'ct']] 583.123\n",
      " > Model[[(1, 0, 2), (0, 0, 0, 0), 'n']] 522.008\n",
      " > Model[[(1, 0, 2), (0, 0, 0, 0), 'c']] 652.173\n",
      " > Model[[(1, 0, 2), (0, 0, 0, 0), 't']] 631.787\n",
      " > Model[[(1, 0, 2), (0, 0, 0, 0), 'ct']] 559.974\n",
      " > Model[[(1, 1, 0), (0, 0, 0, 0), 'n']] 581.526\n",
      " > Model[[(1, 1, 0), (0, 0, 0, 0), 'c']] 591.659\n",
      " > Model[[(1, 1, 0), (0, 0, 0, 0), 't']] 577.064\n",
      " > Model[[(1, 1, 0), (0, 0, 0, 0), 'ct']] 549.299\n",
      " > Model[[(1, 1, 1), (0, 0, 0, 0), 'n']] 602.807\n",
      " > Model[[(1, 1, 1), (0, 0, 0, 0), 'c']] 603.939\n",
      " > Model[[(1, 1, 1), (0, 0, 0, 0), 't']] 585.528\n",
      " > Model[[(1, 1, 1), (0, 0, 0, 0), 'ct']] 524.178\n",
      " > Model[[(1, 1, 2), (0, 0, 0, 0), 'n']] 609.015\n",
      " > Model[[(1, 1, 2), (0, 0, 0, 0), 'c']] 573.051\n",
      " > Model[[(1, 1, 2), (0, 0, 0, 0), 't']] 524.162\n",
      " > Model[[(1, 1, 2), (0, 0, 0, 0), 'ct']] 554.674\n",
      " > Model[[(2, 0, 0), (0, 0, 0, 0), 'n']] 537.198\n",
      " > Model[[(2, 0, 0), (0, 0, 0, 0), 'c']] 601.090\n",
      " > Model[[(2, 0, 0), (0, 0, 0, 0), 't']] 644.701\n",
      " > Model[[(2, 0, 0), (0, 0, 0, 0), 'ct']] 595.025\n",
      " > Model[[(2, 0, 1), (0, 0, 0, 0), 'n']] 572.619\n",
      " > Model[[(2, 0, 1), (0, 0, 0, 0), 'c']] 587.866\n",
      " > Model[[(2, 0, 1), (0, 0, 0, 0), 't']] 631.237\n",
      " > Model[[(2, 0, 1), (0, 0, 0, 0), 'ct']] 566.363\n",
      " > Model[[(2, 0, 2), (0, 0, 0, 0), 'n']] 530.906\n",
      " > Model[[(2, 0, 2), (0, 0, 0, 0), 'c']] 609.409\n",
      " > Model[[(2, 0, 2), (0, 0, 0, 0), 't']] 661.383\n",
      " > Model[[(2, 0, 2), (0, 0, 0, 0), 'ct']] 608.544\n",
      " > Model[[(2, 1, 0), (0, 0, 0, 0), 'n']] 551.558\n",
      " > Model[[(2, 1, 0), (0, 0, 0, 0), 'c']] 558.255\n",
      " > Model[[(2, 1, 0), (0, 0, 0, 0), 't']] 543.567\n",
      " > Model[[(2, 1, 0), (0, 0, 0, 0), 'ct']] 507.176\n",
      " > Model[[(2, 1, 1), (0, 0, 0, 0), 'n']] 549.149\n",
      " > Model[[(2, 1, 1), (0, 0, 0, 0), 'c']] 554.959\n",
      " > Model[[(2, 1, 1), (0, 0, 0, 0), 't']] 541.083\n",
      " > Model[[(2, 1, 1), (0, 0, 0, 0), 'ct']] 580.104\n",
      " > Model[[(2, 1, 2), (0, 0, 0, 0), 'n']] 588.820\n",
      " > Model[[(2, 1, 2), (0, 0, 0, 0), 'c']] 573.757\n",
      " > Model[[(2, 1, 2), (0, 0, 0, 0), 't']] 572.831\n",
      " > Model[[(2, 1, 2), (0, 0, 0, 0), 'ct']] 637.389\n",
      "done\n",
      "[(2, 1, 0), (0, 0, 0, 0), 'ct'] 507.17590870939296\n",
      "[(0, 1, 2), (0, 0, 0, 0), 'ct'] 517.8112718055374\n",
      "[(1, 0, 2), (0, 0, 0, 0), 'n'] 522.0084106911977\n"
     ]
    }
   ],
   "source": [
    "if __name__ == '__main__':\n",
    "\t# define dataset\n",
    "\tdata = MAT_df['MAT_df_diff1']\n",
    "\tprint(data)\n",
    "\t# data split\n",
    "\tn_test = 3\n",
    "\t# model configs\n",
    "\tcfg_list = sarima_configs()\n",
    "\t# grid search\n",
    "\tscores = grid_search(data, cfg_list, n_test)\n",
    "\tprint('done')\n",
    "\t# list top 3 configs\n",
    "\tfor cfg, error in scores[:3]:\n",
    "\t\tprint(cfg, error)"
   ]
  },
  {
   "cell_type": "code",
   "execution_count": 46,
   "metadata": {},
   "outputs": [
    {
     "name": "stdout",
     "output_type": "stream",
     "text": [
      "qtr_begin_dt  mat_x  opioid  enrollment  \n",
      "2015-07-01    1      1       1.262296e+06   -1824.827554\n",
      "2015-10-01    1      1       1.269899e+06   -1216.640417\n",
      "2016-01-01    1      1       1.279065e+06    -625.685303\n",
      "2016-04-01    1      1       1.310312e+06   -1129.036926\n",
      "2016-07-01    1      1       1.308614e+06    -952.063849\n",
      "2016-10-01    1      1       1.316557e+06     172.348965\n",
      "2017-01-01    1      1       1.329612e+06    -388.518057\n",
      "2017-04-01    1      1       1.338202e+06   -1126.060107\n",
      "2017-07-01    1      1       1.345714e+06   -1581.500231\n",
      "2017-10-01    1      1       1.349776e+06   -1835.545380\n",
      "2018-01-01    1      1       1.355666e+06   -1916.365239\n",
      "2018-04-01    1      1       1.332721e+06   -1956.187117\n",
      "2018-07-01    1      1       1.317721e+06   -2054.629680\n",
      "2018-10-01    1      1       1.296805e+06   -2172.824921\n",
      "2019-01-01    1      1       1.293211e+06   -2418.379751\n",
      "2019-04-01    1      1       1.289673e+06   -2341.615430\n",
      "2019-07-01    1      1       1.345640e+06   -2581.213504\n",
      "2019-10-01    1      1       1.325486e+06   -3705.729827\n",
      "Name: MAT_df_diff2, dtype: float64\n",
      " > Model[[(0, 0, 0), (0, 0, 0, 0), 'n']] 2937.020\n",
      " > Model[[(0, 0, 0), (0, 0, 0, 0), 'c']] 1532.139\n",
      " > Model[[(0, 0, 0), (0, 0, 0, 0), 't']] 513.545\n",
      " > Model[[(0, 0, 0), (0, 0, 0, 0), 'ct']] 592.850\n",
      " > Model[[(0, 0, 1), (0, 0, 0, 0), 'n']] 1675.330\n",
      " > Model[[(0, 0, 1), (0, 0, 0, 0), 'c']] 985.645\n",
      " > Model[[(0, 0, 1), (0, 0, 0, 0), 't']] 495.975\n",
      " > Model[[(0, 0, 1), (0, 0, 0, 0), 'ct']] 510.806\n",
      " > Model[[(0, 0, 2), (0, 0, 0, 0), 'n']] 1232.779\n",
      " > Model[[(0, 0, 2), (0, 0, 0, 0), 'c']] 885.037\n",
      " > Model[[(0, 0, 2), (0, 0, 0, 0), 't']] 444.662\n",
      " > Model[[(0, 0, 2), (0, 0, 0, 0), 'ct']] 609.333\n",
      " > Model[[(0, 1, 0), (0, 0, 0, 0), 'n']] 665.291\n",
      " > Model[[(0, 1, 0), (0, 0, 0, 0), 'c']] 611.866\n",
      " > Model[[(0, 1, 0), (0, 0, 0, 0), 't']] 558.150\n",
      " > Model[[(0, 1, 0), (0, 0, 0, 0), 'ct']] 546.966\n",
      " > Model[[(0, 1, 1), (0, 0, 0, 0), 'n']] 659.055\n",
      " > Model[[(0, 1, 1), (0, 0, 0, 0), 'c']] 591.730\n",
      " > Model[[(0, 1, 1), (0, 0, 0, 0), 't']] 553.753\n",
      " > Model[[(0, 1, 1), (0, 0, 0, 0), 'ct']] 575.116\n",
      " > Model[[(0, 1, 2), (0, 0, 0, 0), 'n']] 622.293\n",
      " > Model[[(0, 1, 2), (0, 0, 0, 0), 'c']] 524.899\n",
      " > Model[[(0, 1, 2), (0, 0, 0, 0), 't']] 451.011\n",
      " > Model[[(0, 1, 2), (0, 0, 0, 0), 'ct']] 510.994\n",
      " > Model[[(1, 0, 0), (0, 0, 0, 0), 'n']] 673.503\n",
      " > Model[[(1, 0, 0), (0, 0, 0, 0), 'c']] 751.052\n",
      " > Model[[(1, 0, 0), (0, 0, 0, 0), 't']] 533.964\n",
      " > Model[[(1, 0, 0), (0, 0, 0, 0), 'ct']] 549.176\n",
      " > Model[[(1, 0, 1), (0, 0, 0, 0), 'n']] 672.873\n",
      " > Model[[(1, 0, 1), (0, 0, 0, 0), 'c']] 711.411\n",
      " > Model[[(1, 0, 1), (0, 0, 0, 0), 't']] 497.212\n",
      " > Model[[(1, 0, 1), (0, 0, 0, 0), 'ct']] 542.602\n",
      " > Model[[(1, 0, 2), (0, 0, 0, 0), 'n']] 455.876\n",
      " > Model[[(1, 0, 2), (0, 0, 0, 0), 'c']] 702.222\n",
      " > Model[[(1, 0, 2), (0, 0, 0, 0), 't']] 425.749\n",
      " > Model[[(1, 0, 2), (0, 0, 0, 0), 'ct']] 639.660\n",
      " > Model[[(1, 1, 0), (0, 0, 0, 0), 'n']] 651.301\n",
      " > Model[[(1, 1, 0), (0, 0, 0, 0), 'c']] 602.820\n",
      " > Model[[(1, 1, 0), (0, 0, 0, 0), 't']] 556.896\n",
      " > Model[[(1, 1, 0), (0, 0, 0, 0), 'ct']] 548.160\n",
      " > Model[[(1, 1, 1), (0, 0, 0, 0), 'n']] 609.765\n",
      " > Model[[(1, 1, 1), (0, 0, 0, 0), 'c']] 528.018\n",
      " > Model[[(1, 1, 1), (0, 0, 0, 0), 't']] 512.299\n",
      " > Model[[(1, 1, 1), (0, 0, 0, 0), 'ct']] 519.671\n",
      " > Model[[(1, 1, 2), (0, 0, 0, 0), 'n']] 621.860\n",
      " > Model[[(1, 1, 2), (0, 0, 0, 0), 'c']] 519.606\n",
      " > Model[[(1, 1, 2), (0, 0, 0, 0), 't']] 456.186\n",
      " > Model[[(1, 1, 2), (0, 0, 0, 0), 'ct']] 579.224\n",
      " > Model[[(2, 0, 0), (0, 0, 0, 0), 'n']] 629.067\n",
      " > Model[[(2, 0, 0), (0, 0, 0, 0), 'c']] 725.379\n",
      " > Model[[(2, 0, 0), (0, 0, 0, 0), 't']] 522.122\n",
      " > Model[[(2, 0, 0), (0, 0, 0, 0), 'ct']] 565.048\n",
      " > Model[[(2, 0, 1), (0, 0, 0, 0), 'n']] 555.879\n",
      " > Model[[(2, 0, 1), (0, 0, 0, 0), 'c']] 682.258\n",
      " > Model[[(2, 0, 1), (0, 0, 0, 0), 't']] 494.489\n",
      " > Model[[(2, 0, 1), (0, 0, 0, 0), 'ct']] 521.207\n",
      " > Model[[(2, 0, 2), (0, 0, 0, 0), 'n']] 462.009\n",
      " > Model[[(2, 0, 2), (0, 0, 0, 0), 'c']] 699.577\n",
      " > Model[[(2, 0, 2), (0, 0, 0, 0), 't']] 413.251\n",
      " > Model[[(2, 0, 2), (0, 0, 0, 0), 'ct']] 599.032\n",
      " > Model[[(2, 1, 0), (0, 0, 0, 0), 'n']] 654.290\n",
      " > Model[[(2, 1, 0), (0, 0, 0, 0), 'c']] 565.505\n",
      " > Model[[(2, 1, 0), (0, 0, 0, 0), 't']] 501.464\n",
      " > Model[[(2, 1, 0), (0, 0, 0, 0), 'ct']] 516.972\n",
      " > Model[[(2, 1, 1), (0, 0, 0, 0), 'n']] 608.516\n",
      " > Model[[(2, 1, 1), (0, 0, 0, 0), 'c']] 535.348\n",
      " > Model[[(2, 1, 1), (0, 0, 0, 0), 't']] 479.082\n",
      " > Model[[(2, 1, 1), (0, 0, 0, 0), 'ct']] 483.053\n",
      " > Model[[(2, 1, 2), (0, 0, 0, 0), 'n']] 645.262\n",
      " > Model[[(2, 1, 2), (0, 0, 0, 0), 'c']] 526.804\n",
      " > Model[[(2, 1, 2), (0, 0, 0, 0), 't']] 455.189\n",
      " > Model[[(2, 1, 2), (0, 0, 0, 0), 'ct']] 509.555\n",
      "done\n",
      "[(2, 0, 2), (0, 0, 0, 0), 't'] 413.2506415362892\n",
      "[(1, 0, 2), (0, 0, 0, 0), 't'] 425.74920204336524\n",
      "[(0, 0, 2), (0, 0, 0, 0), 't'] 444.66217118028527\n"
     ]
    }
   ],
   "source": [
    "if __name__ == '__main__':\n",
    "\t# define dataset\n",
    "\tdata = MAT_df['MAT_df_diff2']\n",
    "\tprint(data)\n",
    "\t# data split\n",
    "\tn_test = 3\n",
    "\t# model configs\n",
    "\tcfg_list = sarima_configs()\n",
    "\t# grid search\n",
    "\tscores = grid_search(data, cfg_list, n_test)\n",
    "\tprint('done')\n",
    "\t# list top 3 configs\n",
    "\tfor cfg, error in scores[:3]:\n",
    "\t\tprint(cfg, error)"
   ]
  },
  {
   "cell_type": "code",
   "execution_count": null,
   "metadata": {},
   "outputs": [],
   "source": []
  }
 ],
 "metadata": {
  "kernelspec": {
   "display_name": "Python 3",
   "language": "python",
   "name": "python3"
  },
  "language_info": {
   "codemirror_mode": {
    "name": "ipython",
    "version": 3
   },
   "file_extension": ".py",
   "mimetype": "text/x-python",
   "name": "python",
   "nbconvert_exporter": "python",
   "pygments_lexer": "ipython3",
   "version": "3.8.3"
  }
 },
 "nbformat": 4,
 "nbformat_minor": 4
}
