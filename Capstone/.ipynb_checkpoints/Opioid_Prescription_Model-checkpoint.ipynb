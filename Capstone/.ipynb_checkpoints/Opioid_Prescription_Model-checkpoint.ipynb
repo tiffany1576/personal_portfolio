{
 "cells": [
  {
   "cell_type": "code",
   "execution_count": 1,
   "metadata": {},
   "outputs": [],
   "source": [
    "%store -r merged_df"
   ]
  },
  {
   "cell_type": "code",
   "execution_count": 2,
   "metadata": {},
   "outputs": [],
   "source": [
    "import pandas as pd\n",
    "import numpy as np\n",
    "import datetime as dt\n",
    "import seaborn as sns\n",
    "import matplotlib.pyplot as plt\n",
    "\n",
    "#auto arima time series modeling package\n",
    "from pmdarima import auto_arima"
   ]
  },
  {
   "cell_type": "markdown",
   "metadata": {},
   "source": [
    "## MODEL PREP AND MODELING DATA\n",
    "\n",
    "Check for Stationarity. Quick look at trends yoy by dea class"
   ]
  },
  {
   "cell_type": "markdown",
   "metadata": {},
   "source": [
    "need to use date as index. group by product_fda_list_name and qtr_begin_dt to sum units/amounts"
   ]
  },
  {
   "cell_type": "code",
   "execution_count": 3,
   "metadata": {},
   "outputs": [],
   "source": [
    "grouped_df = merged_df.groupby(['qtr_begin_dt','mat_x','opioid','dea_schedule','product_fda_list_name']).sum()\n"
   ]
  },
  {
   "cell_type": "code",
   "execution_count": 4,
   "metadata": {},
   "outputs": [],
   "source": [
    "grp_dea_sched_df = merged_df.groupby(['qtr_begin_dt','mat_x','opioid','dea_schedule']).sum().reset_index()"
   ]
  },
  {
   "cell_type": "code",
   "execution_count": 5,
   "metadata": {},
   "outputs": [],
   "source": [
    "grp_dea_sched_df.set_index(pd.DatetimeIndex(grp_dea_sched_df['qtr_begin_dt']), inplace = True)\n",
    "grp_dea_sched_df.drop(columns = ['qtr_begin_dt'], inplace = True)"
   ]
  },
  {
   "cell_type": "code",
   "execution_count": 6,
   "metadata": {},
   "outputs": [
    {
     "data": {
      "text/html": [
       "<div>\n",
       "<style scoped>\n",
       "    .dataframe tbody tr th:only-of-type {\n",
       "        vertical-align: middle;\n",
       "    }\n",
       "\n",
       "    .dataframe tbody tr th {\n",
       "        vertical-align: top;\n",
       "    }\n",
       "\n",
       "    .dataframe thead th {\n",
       "        text-align: right;\n",
       "    }\n",
       "</style>\n",
       "<table border=\"1\" class=\"dataframe\">\n",
       "  <thead>\n",
       "    <tr style=\"text-align: right;\">\n",
       "      <th></th>\n",
       "      <th>mat_x</th>\n",
       "      <th>opioid</th>\n",
       "      <th>dea_schedule</th>\n",
       "      <th>total_amount_reimbursed</th>\n",
       "      <th>units_reimbursed</th>\n",
       "      <th>enrollment</th>\n",
       "      <th>units_per_1000</th>\n",
       "      <th>amount_per_1000</th>\n",
       "    </tr>\n",
       "    <tr>\n",
       "      <th>qtr_begin_dt</th>\n",
       "      <th></th>\n",
       "      <th></th>\n",
       "      <th></th>\n",
       "      <th></th>\n",
       "      <th></th>\n",
       "      <th></th>\n",
       "      <th></th>\n",
       "      <th></th>\n",
       "    </tr>\n",
       "  </thead>\n",
       "  <tbody>\n",
       "    <tr>\n",
       "      <th>2015-01-01</th>\n",
       "      <td>0</td>\n",
       "      <td>1</td>\n",
       "      <td>CII</td>\n",
       "      <td>3480933.12</td>\n",
       "      <td>6858087.43</td>\n",
       "      <td>986383206.0</td>\n",
       "      <td>1814.670818</td>\n",
       "      <td>921.065504</td>\n",
       "    </tr>\n",
       "    <tr>\n",
       "      <th>2015-01-01</th>\n",
       "      <td>0</td>\n",
       "      <td>1</td>\n",
       "      <td>CIII</td>\n",
       "      <td>220893.23</td>\n",
       "      <td>335836.00</td>\n",
       "      <td>139832102.0</td>\n",
       "      <td>88.863228</td>\n",
       "      <td>58.449021</td>\n",
       "    </tr>\n",
       "    <tr>\n",
       "      <th>2015-01-01</th>\n",
       "      <td>0</td>\n",
       "      <td>1</td>\n",
       "      <td>CIV</td>\n",
       "      <td>94139.87</td>\n",
       "      <td>841797.00</td>\n",
       "      <td>83143412.0</td>\n",
       "      <td>222.742050</td>\n",
       "      <td>24.909696</td>\n",
       "    </tr>\n",
       "    <tr>\n",
       "      <th>2015-01-01</th>\n",
       "      <td>0</td>\n",
       "      <td>1</td>\n",
       "      <td>CV</td>\n",
       "      <td>2722.34</td>\n",
       "      <td>66911.78</td>\n",
       "      <td>26454722.0</td>\n",
       "      <td>17.705061</td>\n",
       "      <td>0.720339</td>\n",
       "    </tr>\n",
       "    <tr>\n",
       "      <th>2015-01-01</th>\n",
       "      <td>1</td>\n",
       "      <td>1</td>\n",
       "      <td>CII</td>\n",
       "      <td>31869.02</td>\n",
       "      <td>189851.00</td>\n",
       "      <td>22675476.0</td>\n",
       "      <td>50.235153</td>\n",
       "      <td>8.432640</td>\n",
       "    </tr>\n",
       "  </tbody>\n",
       "</table>\n",
       "</div>"
      ],
      "text/plain": [
       "              mat_x  opioid dea_schedule  total_amount_reimbursed  \\\n",
       "qtr_begin_dt                                                        \n",
       "2015-01-01        0       1          CII               3480933.12   \n",
       "2015-01-01        0       1         CIII                220893.23   \n",
       "2015-01-01        0       1          CIV                 94139.87   \n",
       "2015-01-01        0       1           CV                  2722.34   \n",
       "2015-01-01        1       1          CII                 31869.02   \n",
       "\n",
       "              units_reimbursed   enrollment  units_per_1000  amount_per_1000  \n",
       "qtr_begin_dt                                                                  \n",
       "2015-01-01          6858087.43  986383206.0     1814.670818       921.065504  \n",
       "2015-01-01           335836.00  139832102.0       88.863228        58.449021  \n",
       "2015-01-01           841797.00   83143412.0      222.742050        24.909696  \n",
       "2015-01-01            66911.78   26454722.0       17.705061         0.720339  \n",
       "2015-01-01           189851.00   22675476.0       50.235153         8.432640  "
      ]
     },
     "execution_count": 6,
     "metadata": {},
     "output_type": "execute_result"
    }
   ],
   "source": [
    "grp_dea_sched_df.head()"
   ]
  },
  {
   "cell_type": "code",
   "execution_count": 7,
   "metadata": {},
   "outputs": [],
   "source": [
    "CII = grp_dea_sched_df.loc[grp_dea_sched_df['dea_schedule']== 'CII']\n",
    "CIII = grp_dea_sched_df.loc[grp_dea_sched_df['dea_schedule']== 'CIII']\n",
    "\n",
    "CIV = grp_dea_sched_df.loc[grp_dea_sched_df['dea_schedule']== 'CIV']\n",
    "\n",
    "CV = grp_dea_sched_df.loc[grp_dea_sched_df['dea_schedule']== 'CV']\n",
    "\n"
   ]
  },
  {
   "cell_type": "code",
   "execution_count": 8,
   "metadata": {},
   "outputs": [
    {
     "data": {
      "text/html": [
       "<div>\n",
       "<style scoped>\n",
       "    .dataframe tbody tr th:only-of-type {\n",
       "        vertical-align: middle;\n",
       "    }\n",
       "\n",
       "    .dataframe tbody tr th {\n",
       "        vertical-align: top;\n",
       "    }\n",
       "\n",
       "    .dataframe thead th {\n",
       "        text-align: right;\n",
       "    }\n",
       "</style>\n",
       "<table border=\"1\" class=\"dataframe\">\n",
       "  <thead>\n",
       "    <tr style=\"text-align: right;\">\n",
       "      <th></th>\n",
       "      <th>mat_x</th>\n",
       "      <th>opioid</th>\n",
       "      <th>dea_schedule</th>\n",
       "      <th>total_amount_reimbursed</th>\n",
       "      <th>units_reimbursed</th>\n",
       "      <th>enrollment</th>\n",
       "      <th>units_per_1000</th>\n",
       "      <th>amount_per_1000</th>\n",
       "    </tr>\n",
       "    <tr>\n",
       "      <th>qtr_begin_dt</th>\n",
       "      <th></th>\n",
       "      <th></th>\n",
       "      <th></th>\n",
       "      <th></th>\n",
       "      <th></th>\n",
       "      <th></th>\n",
       "      <th></th>\n",
       "      <th></th>\n",
       "    </tr>\n",
       "  </thead>\n",
       "  <tbody>\n",
       "    <tr>\n",
       "      <th>2015-01-01</th>\n",
       "      <td>0</td>\n",
       "      <td>1</td>\n",
       "      <td>CII</td>\n",
       "      <td>3480933.12</td>\n",
       "      <td>6858087.43</td>\n",
       "      <td>986383206.0</td>\n",
       "      <td>1814.670818</td>\n",
       "      <td>921.065504</td>\n",
       "    </tr>\n",
       "    <tr>\n",
       "      <th>2015-01-01</th>\n",
       "      <td>1</td>\n",
       "      <td>1</td>\n",
       "      <td>CII</td>\n",
       "      <td>31869.02</td>\n",
       "      <td>189851.00</td>\n",
       "      <td>22675476.0</td>\n",
       "      <td>50.235153</td>\n",
       "      <td>8.432640</td>\n",
       "    </tr>\n",
       "    <tr>\n",
       "      <th>2015-04-01</th>\n",
       "      <td>0</td>\n",
       "      <td>1</td>\n",
       "      <td>CII</td>\n",
       "      <td>2331363.77</td>\n",
       "      <td>4306551.47</td>\n",
       "      <td>944178160.0</td>\n",
       "      <td>1131.168682</td>\n",
       "      <td>612.361352</td>\n",
       "    </tr>\n",
       "    <tr>\n",
       "      <th>2015-04-01</th>\n",
       "      <td>1</td>\n",
       "      <td>1</td>\n",
       "      <td>CII</td>\n",
       "      <td>5094.11</td>\n",
       "      <td>25444.00</td>\n",
       "      <td>26650190.0</td>\n",
       "      <td>6.683179</td>\n",
       "      <td>1.338031</td>\n",
       "    </tr>\n",
       "    <tr>\n",
       "      <th>2015-07-01</th>\n",
       "      <td>0</td>\n",
       "      <td>1</td>\n",
       "      <td>CII</td>\n",
       "      <td>1351597.55</td>\n",
       "      <td>3576911.91</td>\n",
       "      <td>920213784.0</td>\n",
       "      <td>944.551809</td>\n",
       "      <td>356.915111</td>\n",
       "    </tr>\n",
       "  </tbody>\n",
       "</table>\n",
       "</div>"
      ],
      "text/plain": [
       "              mat_x  opioid dea_schedule  total_amount_reimbursed  \\\n",
       "qtr_begin_dt                                                        \n",
       "2015-01-01        0       1          CII               3480933.12   \n",
       "2015-01-01        1       1          CII                 31869.02   \n",
       "2015-04-01        0       1          CII               2331363.77   \n",
       "2015-04-01        1       1          CII                  5094.11   \n",
       "2015-07-01        0       1          CII               1351597.55   \n",
       "\n",
       "              units_reimbursed   enrollment  units_per_1000  amount_per_1000  \n",
       "qtr_begin_dt                                                                  \n",
       "2015-01-01          6858087.43  986383206.0     1814.670818       921.065504  \n",
       "2015-01-01           189851.00   22675476.0       50.235153         8.432640  \n",
       "2015-04-01          4306551.47  944178160.0     1131.168682       612.361352  \n",
       "2015-04-01            25444.00   26650190.0        6.683179         1.338031  \n",
       "2015-07-01          3576911.91  920213784.0      944.551809       356.915111  "
      ]
     },
     "execution_count": 8,
     "metadata": {},
     "output_type": "execute_result"
    }
   ],
   "source": [
    "CII.head()"
   ]
  },
  {
   "cell_type": "markdown",
   "metadata": {},
   "source": [
    "try an ARIMA on CIII non-MAT"
   ]
  },
  {
   "cell_type": "code",
   "execution_count": 9,
   "metadata": {},
   "outputs": [],
   "source": [
    "CII_Non_MAT = CII.loc[CII['mat_x']== 0]\n",
    "CIII_Non_MAT = CIII.loc[CIII['mat_x']== 0]\n",
    "CIV_Non_MAT = CIV.loc[CIV['mat_x']== 0]\n",
    "CV_Non_MAT = CV.loc[CV['mat_x']== 0]\n",
    "\n"
   ]
  },
  {
   "cell_type": "code",
   "execution_count": 10,
   "metadata": {},
   "outputs": [
    {
     "data": {
      "text/plain": [
       "array([ 17.70506074,  25.45105682,  27.48467343,  35.22258463,\n",
       "       106.39253246,  10.70273848,   3.20746479,   3.31166824,\n",
       "       113.51723573,  71.73655397,  55.94774719,  79.47666365,\n",
       "        79.48122915,  44.84935828,  38.05938737,  55.25760105,\n",
       "        60.84982781,  32.2993503 ,  26.42609376,  22.10459104])"
      ]
     },
     "execution_count": 10,
     "metadata": {},
     "output_type": "execute_result"
    }
   ],
   "source": [
    "CV_Non_MAT['units_per_1000'].unique()"
   ]
  },
  {
   "cell_type": "code",
   "execution_count": 11,
   "metadata": {},
   "outputs": [
    {
     "name": "stderr",
     "output_type": "stream",
     "text": [
      "/Users/shishi/anaconda3/lib/python3.8/site-packages/pandas/core/indexing.py:966: SettingWithCopyWarning: \n",
      "A value is trying to be set on a copy of a slice from a DataFrame.\n",
      "Try using .loc[row_indexer,col_indexer] = value instead\n",
      "\n",
      "See the caveats in the documentation: https://pandas.pydata.org/pandas-docs/stable/user_guide/indexing.html#returning-a-view-versus-a-copy\n",
      "  self.obj[item] = s\n"
     ]
    }
   ],
   "source": [
    "CII_Non_MAT.loc[:,\"units_per_1000\"] = pd.to_numeric(CII_Non_MAT[\"units_per_1000\"], errors = \"coerce\")\n",
    "CIII_Non_MAT.loc[:,\"units_per_1000\"] = pd.to_numeric(CIII_Non_MAT[\"units_per_1000\"], errors = \"coerce\")\n",
    "CIV_Non_MAT.loc[:,\"units_per_1000\"] = pd.to_numeric(CIV_Non_MAT[\"units_per_1000\"], errors = \"coerce\")\n",
    "CV_Non_MAT.loc[:,\"units_per_1000\"] = pd.to_numeric(CV_Non_MAT[\"units_per_1000\"], errors = \"coerce\")"
   ]
  },
  {
   "cell_type": "code",
   "execution_count": 12,
   "metadata": {},
   "outputs": [
    {
     "data": {
      "text/plain": [
       "<bound method NDFrame.describe of qtr_begin_dt\n",
       "2015-01-01     17.705061\n",
       "2015-04-01     25.451057\n",
       "2015-07-01     27.484673\n",
       "2015-10-01     35.222585\n",
       "2016-01-01    106.392532\n",
       "2016-04-01     10.702738\n",
       "2016-07-01      3.207465\n",
       "2016-10-01      3.311668\n",
       "2017-01-01    113.517236\n",
       "2017-04-01     71.736554\n",
       "2017-07-01     55.947747\n",
       "2017-10-01     79.476664\n",
       "2018-01-01     79.481229\n",
       "2018-04-01     44.849358\n",
       "2018-07-01     38.059387\n",
       "2018-10-01     55.257601\n",
       "2019-01-01     60.849828\n",
       "2019-04-01     32.299350\n",
       "2019-07-01     26.426094\n",
       "2019-10-01     22.104591\n",
       "Name: units_per_1000, dtype: float64>"
      ]
     },
     "execution_count": 12,
     "metadata": {},
     "output_type": "execute_result"
    }
   ],
   "source": [
    "CV_Non_MAT['units_per_1000'].describe"
   ]
  },
  {
   "cell_type": "code",
   "execution_count": 18,
   "metadata": {},
   "outputs": [
    {
     "data": {
      "text/html": [
       "<div>\n",
       "<style scoped>\n",
       "    .dataframe tbody tr th:only-of-type {\n",
       "        vertical-align: middle;\n",
       "    }\n",
       "\n",
       "    .dataframe tbody tr th {\n",
       "        vertical-align: top;\n",
       "    }\n",
       "\n",
       "    .dataframe thead th {\n",
       "        text-align: right;\n",
       "    }\n",
       "</style>\n",
       "<table border=\"1\" class=\"dataframe\">\n",
       "  <thead>\n",
       "    <tr style=\"text-align: right;\">\n",
       "      <th></th>\n",
       "      <th>mat_x</th>\n",
       "      <th>opioid</th>\n",
       "      <th>dea_schedule</th>\n",
       "      <th>total_amount_reimbursed</th>\n",
       "      <th>units_reimbursed</th>\n",
       "      <th>enrollment</th>\n",
       "      <th>units_per_1000</th>\n",
       "      <th>amount_per_1000</th>\n",
       "    </tr>\n",
       "    <tr>\n",
       "      <th>qtr_begin_dt</th>\n",
       "      <th></th>\n",
       "      <th></th>\n",
       "      <th></th>\n",
       "      <th></th>\n",
       "      <th></th>\n",
       "      <th></th>\n",
       "      <th></th>\n",
       "      <th></th>\n",
       "    </tr>\n",
       "  </thead>\n",
       "  <tbody>\n",
       "    <tr>\n",
       "      <th>2018-10-01</th>\n",
       "      <td>0</td>\n",
       "      <td>1</td>\n",
       "      <td>CIII</td>\n",
       "      <td>258637.66</td>\n",
       "      <td>603246.0</td>\n",
       "      <td>190630335.0</td>\n",
       "      <td>155.059550</td>\n",
       "      <td>66.480738</td>\n",
       "    </tr>\n",
       "    <tr>\n",
       "      <th>2019-01-01</th>\n",
       "      <td>0</td>\n",
       "      <td>1</td>\n",
       "      <td>CIII</td>\n",
       "      <td>228349.78</td>\n",
       "      <td>555894.0</td>\n",
       "      <td>182342751.0</td>\n",
       "      <td>143.285202</td>\n",
       "      <td>58.858603</td>\n",
       "    </tr>\n",
       "    <tr>\n",
       "      <th>2019-04-01</th>\n",
       "      <td>0</td>\n",
       "      <td>1</td>\n",
       "      <td>CIII</td>\n",
       "      <td>175289.17</td>\n",
       "      <td>492926.0</td>\n",
       "      <td>177974874.0</td>\n",
       "      <td>127.403355</td>\n",
       "      <td>45.305844</td>\n",
       "    </tr>\n",
       "    <tr>\n",
       "      <th>2019-07-01</th>\n",
       "      <td>0</td>\n",
       "      <td>1</td>\n",
       "      <td>CIII</td>\n",
       "      <td>169803.87</td>\n",
       "      <td>480586.0</td>\n",
       "      <td>185698274.0</td>\n",
       "      <td>119.047719</td>\n",
       "      <td>42.062739</td>\n",
       "    </tr>\n",
       "    <tr>\n",
       "      <th>2019-10-01</th>\n",
       "      <td>0</td>\n",
       "      <td>1</td>\n",
       "      <td>CIII</td>\n",
       "      <td>90569.52</td>\n",
       "      <td>293078.0</td>\n",
       "      <td>167011278.0</td>\n",
       "      <td>73.703262</td>\n",
       "      <td>22.776425</td>\n",
       "    </tr>\n",
       "  </tbody>\n",
       "</table>\n",
       "</div>"
      ],
      "text/plain": [
       "              mat_x  opioid dea_schedule  total_amount_reimbursed  \\\n",
       "qtr_begin_dt                                                        \n",
       "2018-10-01        0       1         CIII                258637.66   \n",
       "2019-01-01        0       1         CIII                228349.78   \n",
       "2019-04-01        0       1         CIII                175289.17   \n",
       "2019-07-01        0       1         CIII                169803.87   \n",
       "2019-10-01        0       1         CIII                 90569.52   \n",
       "\n",
       "              units_reimbursed   enrollment  units_per_1000  amount_per_1000  \n",
       "qtr_begin_dt                                                                  \n",
       "2018-10-01            603246.0  190630335.0      155.059550        66.480738  \n",
       "2019-01-01            555894.0  182342751.0      143.285202        58.858603  \n",
       "2019-04-01            492926.0  177974874.0      127.403355        45.305844  \n",
       "2019-07-01            480586.0  185698274.0      119.047719        42.062739  \n",
       "2019-10-01            293078.0  167011278.0       73.703262        22.776425  "
      ]
     },
     "execution_count": 18,
     "metadata": {},
     "output_type": "execute_result"
    }
   ],
   "source": [
    "CIII_Non_MAT.tail()"
   ]
  },
  {
   "cell_type": "code",
   "execution_count": 14,
   "metadata": {},
   "outputs": [],
   "source": [
    "# Code modified from code written by Matthew Garton.\n",
    "\n",
    "def plot_series(df, cols=None, title='Title', xlab=None, ylab=None, steps=1):\n",
    "    \n",
    "    plt.figure(figsize=(14,5))\n",
    "    \n",
    "    # Iterate through each column name.\n",
    "    for col in cols:\n",
    "            \n",
    "        # Generate a line plot of the column name.\n",
    "        # You only have to specify Y, since our\n",
    "        # index will be a datetime index.\n",
    "        plt.plot(df[col])\n",
    "        \n",
    "    # Generate title and labels.\n",
    "    plt.title(title, fontsize=18)\n",
    "    plt.xlabel(xlab, fontsize=14)\n",
    "    plt.ylabel(ylab, fontsize=14)\n",
    "    \n",
    "    # Enlarge tick marks.\n",
    "    plt.yticks(fontsize=14)\n",
    "    plt.xticks(df.index[0::steps], fontsize=14);"
   ]
  },
  {
   "cell_type": "code",
   "execution_count": 22,
   "metadata": {},
   "outputs": [
    {
     "data": {
      "image/png": "[encoded data removed]",
      "text/plain": [
       "<Figure size 1008x360 with 1 Axes>"
      ]
     },
     "metadata": {
      "needs_background": "light"
     },
     "output_type": "display_data"
    }
   ],
   "source": [
    "plot_series(CIV_Non_MAT,['units_per_1000'], title = \"Dispensed Units per 1000 Medicaid Enrollees\", steps = 1)"
   ]
  },
  {
   "cell_type": "code",
   "execution_count": 16,
   "metadata": {},
   "outputs": [
    {
     "data": {
      "text/plain": [
       "Index(['mat_x', 'opioid', 'dea_schedule', 'total_amount_reimbursed',\n",
       "       'units_reimbursed', 'enrollment', 'units_per_1000', 'amount_per_1000'],\n",
       "      dtype='object')"
      ]
     },
     "execution_count": 16,
     "metadata": {},
     "output_type": "execute_result"
    }
   ],
   "source": [
    "grp_dea_sched_df.columns"
   ]
  },
  {
   "cell_type": "code",
   "execution_count": 17,
   "metadata": {},
   "outputs": [
    {
     "data": {
      "text/html": [
       "<div>\n",
       "<style scoped>\n",
       "    .dataframe tbody tr th:only-of-type {\n",
       "        vertical-align: middle;\n",
       "    }\n",
       "\n",
       "    .dataframe tbody tr th {\n",
       "        vertical-align: top;\n",
       "    }\n",
       "\n",
       "    .dataframe thead th {\n",
       "        text-align: right;\n",
       "    }\n",
       "</style>\n",
       "<table border=\"1\" class=\"dataframe\">\n",
       "  <thead>\n",
       "    <tr style=\"text-align: right;\">\n",
       "      <th></th>\n",
       "      <th>mat_x</th>\n",
       "      <th>opioid</th>\n",
       "      <th>dea_schedule</th>\n",
       "      <th>total_amount_reimbursed</th>\n",
       "      <th>units_reimbursed</th>\n",
       "      <th>enrollment</th>\n",
       "      <th>units_per_1000</th>\n",
       "      <th>amount_per_1000</th>\n",
       "    </tr>\n",
       "    <tr>\n",
       "      <th>qtr_begin_dt</th>\n",
       "      <th></th>\n",
       "      <th></th>\n",
       "      <th></th>\n",
       "      <th></th>\n",
       "      <th></th>\n",
       "      <th></th>\n",
       "      <th></th>\n",
       "      <th></th>\n",
       "    </tr>\n",
       "  </thead>\n",
       "  <tbody>\n",
       "  </tbody>\n",
       "</table>\n",
       "</div>"
      ],
      "text/plain": [
       "Empty DataFrame\n",
       "Columns: [mat_x, opioid, dea_schedule, total_amount_reimbursed, units_reimbursed, enrollment, units_per_1000, amount_per_1000]\n",
       "Index: []"
      ]
     },
     "execution_count": 17,
     "metadata": {},
     "output_type": "execute_result"
    }
   ],
   "source": [
    "grp_dea_sched_df[grp_dea_sched_df['units_per_1000']== 0]"
   ]
  },
  {
   "cell_type": "code",
   "execution_count": null,
   "metadata": {},
   "outputs": [],
   "source": []
  }
 ],
 "metadata": {
  "kernelspec": {
   "display_name": "Python 3",
   "language": "python",
   "name": "python3"
  },
  "language_info": {
   "codemirror_mode": {
    "name": "ipython",
    "version": 3
   },
   "file_extension": ".py",
   "mimetype": "text/x-python",
   "name": "python",
   "nbconvert_exporter": "python",
   "pygments_lexer": "ipython3",
   "version": "3.8.3"
  }
 },
 "nbformat": 4,
 "nbformat_minor": 4
}
